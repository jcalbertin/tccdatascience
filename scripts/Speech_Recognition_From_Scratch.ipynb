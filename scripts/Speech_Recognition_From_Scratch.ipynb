{
  "nbformat": 4,
  "nbformat_minor": 0,
  "metadata": {
    "kernelspec": {
      "display_name": "Python 3.7 (dev)",
      "language": "python",
      "name": "dev"
    },
    "varInspector": {
      "cols": {
        "lenName": 16,
        "lenType": 16,
        "lenVar": 40
      },
      "kernels_config": {
        "python": {
          "delete_cmd_postfix": "",
          "delete_cmd_prefix": "del ",
          "library": "var_list.py",
          "varRefreshCmd": "print(var_dic_list())"
        },
        "r": {
          "delete_cmd_postfix": ") ",
          "delete_cmd_prefix": "rm(",
          "library": "var_list.r",
          "varRefreshCmd": "cat(var_dic_list()) "
        }
      },
      "types_to_exclude": [
        "module",
        "function",
        "builtin_function_or_method",
        "instance",
        "_Feature"
      ],
      "window_display": false
    },
    "colab": {
      "name": "Speech Recognition From Scratch.ipynb",
      "provenance": [],
      "toc_visible": true
    },
    "accelerator": "GPU",
    "widgets": {
      "application/vnd.jupyter.widget-state+json": {
        "b0a4504b524449faa0fdeae2396eefaf": {
          "model_module": "@jupyter-widgets/controls",
          "model_name": "HBoxModel",
          "state": {
            "_view_name": "HBoxView",
            "_dom_classes": [],
            "_model_name": "HBoxModel",
            "_view_module": "@jupyter-widgets/controls",
            "_model_module_version": "1.5.0",
            "_view_count": null,
            "_view_module_version": "1.5.0",
            "box_style": "",
            "layout": "IPY_MODEL_d8b7e36f66e94552bf5bc3ad11216ad7",
            "_model_module": "@jupyter-widgets/controls",
            "children": [
              "IPY_MODEL_9a915f5a8c15488eb39dc84aadbd9ede",
              "IPY_MODEL_15c4a5dd0b6a46798a4250aeb398611c"
            ]
          }
        },
        "d8b7e36f66e94552bf5bc3ad11216ad7": {
          "model_module": "@jupyter-widgets/base",
          "model_name": "LayoutModel",
          "state": {
            "_view_name": "LayoutView",
            "grid_template_rows": null,
            "right": null,
            "justify_content": null,
            "_view_module": "@jupyter-widgets/base",
            "overflow": null,
            "_model_module_version": "1.2.0",
            "_view_count": null,
            "flex_flow": null,
            "width": null,
            "min_width": null,
            "border": null,
            "align_items": null,
            "bottom": null,
            "_model_module": "@jupyter-widgets/base",
            "top": null,
            "grid_column": null,
            "overflow_y": null,
            "overflow_x": null,
            "grid_auto_flow": null,
            "grid_area": null,
            "grid_template_columns": null,
            "flex": null,
            "_model_name": "LayoutModel",
            "justify_items": null,
            "grid_row": null,
            "max_height": null,
            "align_content": null,
            "visibility": null,
            "align_self": null,
            "height": null,
            "min_height": null,
            "padding": null,
            "grid_auto_rows": null,
            "grid_gap": null,
            "max_width": null,
            "order": null,
            "_view_module_version": "1.2.0",
            "grid_template_areas": null,
            "object_position": null,
            "object_fit": null,
            "grid_auto_columns": null,
            "margin": null,
            "display": null,
            "left": null
          }
        },
        "9a915f5a8c15488eb39dc84aadbd9ede": {
          "model_module": "@jupyter-widgets/controls",
          "model_name": "IntProgressModel",
          "state": {
            "_view_name": "ProgressView",
            "style": "IPY_MODEL_e4646bc067c44d758f53338db75795ab",
            "_dom_classes": [],
            "description": "100%",
            "_model_name": "IntProgressModel",
            "bar_style": "success",
            "max": 6,
            "_view_module": "@jupyter-widgets/controls",
            "_model_module_version": "1.5.0",
            "value": 6,
            "_view_count": null,
            "_view_module_version": "1.5.0",
            "orientation": "horizontal",
            "min": 0,
            "description_tooltip": null,
            "_model_module": "@jupyter-widgets/controls",
            "layout": "IPY_MODEL_4f03b654d2ab4edcabd0d3117c2e1535"
          }
        },
        "15c4a5dd0b6a46798a4250aeb398611c": {
          "model_module": "@jupyter-widgets/controls",
          "model_name": "HTMLModel",
          "state": {
            "_view_name": "HTMLView",
            "style": "IPY_MODEL_a779f79ee0524a23950cb2cc47177037",
            "_dom_classes": [],
            "description": "",
            "_model_name": "HTMLModel",
            "placeholder": "​",
            "_view_module": "@jupyter-widgets/controls",
            "_model_module_version": "1.5.0",
            "value": " 6/6 [00:00&lt;00:00, 10.80it/s]",
            "_view_count": null,
            "_view_module_version": "1.5.0",
            "description_tooltip": null,
            "_model_module": "@jupyter-widgets/controls",
            "layout": "IPY_MODEL_77e1b2c2c54548419fe602ddd25154d6"
          }
        },
        "e4646bc067c44d758f53338db75795ab": {
          "model_module": "@jupyter-widgets/controls",
          "model_name": "ProgressStyleModel",
          "state": {
            "_view_name": "StyleView",
            "_model_name": "ProgressStyleModel",
            "description_width": "initial",
            "_view_module": "@jupyter-widgets/base",
            "_model_module_version": "1.5.0",
            "_view_count": null,
            "_view_module_version": "1.2.0",
            "bar_color": null,
            "_model_module": "@jupyter-widgets/controls"
          }
        },
        "4f03b654d2ab4edcabd0d3117c2e1535": {
          "model_module": "@jupyter-widgets/base",
          "model_name": "LayoutModel",
          "state": {
            "_view_name": "LayoutView",
            "grid_template_rows": null,
            "right": null,
            "justify_content": null,
            "_view_module": "@jupyter-widgets/base",
            "overflow": null,
            "_model_module_version": "1.2.0",
            "_view_count": null,
            "flex_flow": null,
            "width": null,
            "min_width": null,
            "border": null,
            "align_items": null,
            "bottom": null,
            "_model_module": "@jupyter-widgets/base",
            "top": null,
            "grid_column": null,
            "overflow_y": null,
            "overflow_x": null,
            "grid_auto_flow": null,
            "grid_area": null,
            "grid_template_columns": null,
            "flex": null,
            "_model_name": "LayoutModel",
            "justify_items": null,
            "grid_row": null,
            "max_height": null,
            "align_content": null,
            "visibility": null,
            "align_self": null,
            "height": null,
            "min_height": null,
            "padding": null,
            "grid_auto_rows": null,
            "grid_gap": null,
            "max_width": null,
            "order": null,
            "_view_module_version": "1.2.0",
            "grid_template_areas": null,
            "object_position": null,
            "object_fit": null,
            "grid_auto_columns": null,
            "margin": null,
            "display": null,
            "left": null
          }
        },
        "a779f79ee0524a23950cb2cc47177037": {
          "model_module": "@jupyter-widgets/controls",
          "model_name": "DescriptionStyleModel",
          "state": {
            "_view_name": "StyleView",
            "_model_name": "DescriptionStyleModel",
            "description_width": "",
            "_view_module": "@jupyter-widgets/base",
            "_model_module_version": "1.5.0",
            "_view_count": null,
            "_view_module_version": "1.2.0",
            "_model_module": "@jupyter-widgets/controls"
          }
        },
        "77e1b2c2c54548419fe602ddd25154d6": {
          "model_module": "@jupyter-widgets/base",
          "model_name": "LayoutModel",
          "state": {
            "_view_name": "LayoutView",
            "grid_template_rows": null,
            "right": null,
            "justify_content": null,
            "_view_module": "@jupyter-widgets/base",
            "overflow": null,
            "_model_module_version": "1.2.0",
            "_view_count": null,
            "flex_flow": null,
            "width": null,
            "min_width": null,
            "border": null,
            "align_items": null,
            "bottom": null,
            "_model_module": "@jupyter-widgets/base",
            "top": null,
            "grid_column": null,
            "overflow_y": null,
            "overflow_x": null,
            "grid_auto_flow": null,
            "grid_area": null,
            "grid_template_columns": null,
            "flex": null,
            "_model_name": "LayoutModel",
            "justify_items": null,
            "grid_row": null,
            "max_height": null,
            "align_content": null,
            "visibility": null,
            "align_self": null,
            "height": null,
            "min_height": null,
            "padding": null,
            "grid_auto_rows": null,
            "grid_gap": null,
            "max_width": null,
            "order": null,
            "_view_module_version": "1.2.0",
            "grid_template_areas": null,
            "object_position": null,
            "object_fit": null,
            "grid_auto_columns": null,
            "margin": null,
            "display": null,
            "left": null
          }
        },
        "24dccd2167994d2094b86c4b8b232a6d": {
          "model_module": "@jupyter-widgets/controls",
          "model_name": "HBoxModel",
          "state": {
            "_view_name": "HBoxView",
            "_dom_classes": [],
            "_model_name": "HBoxModel",
            "_view_module": "@jupyter-widgets/controls",
            "_model_module_version": "1.5.0",
            "_view_count": null,
            "_view_module_version": "1.5.0",
            "box_style": "",
            "layout": "IPY_MODEL_be030b9351b04b5390d702d1986f51f6",
            "_model_module": "@jupyter-widgets/controls",
            "children": [
              "IPY_MODEL_e8fe795615ea483bb911b904a2f0659d",
              "IPY_MODEL_231dd8ca216c4445a710879fd676c3ea"
            ]
          }
        },
        "be030b9351b04b5390d702d1986f51f6": {
          "model_module": "@jupyter-widgets/base",
          "model_name": "LayoutModel",
          "state": {
            "_view_name": "LayoutView",
            "grid_template_rows": null,
            "right": null,
            "justify_content": null,
            "_view_module": "@jupyter-widgets/base",
            "overflow": null,
            "_model_module_version": "1.2.0",
            "_view_count": null,
            "flex_flow": null,
            "width": null,
            "min_width": null,
            "border": null,
            "align_items": null,
            "bottom": null,
            "_model_module": "@jupyter-widgets/base",
            "top": null,
            "grid_column": null,
            "overflow_y": null,
            "overflow_x": null,
            "grid_auto_flow": null,
            "grid_area": null,
            "grid_template_columns": null,
            "flex": null,
            "_model_name": "LayoutModel",
            "justify_items": null,
            "grid_row": null,
            "max_height": null,
            "align_content": null,
            "visibility": null,
            "align_self": null,
            "height": null,
            "min_height": null,
            "padding": null,
            "grid_auto_rows": null,
            "grid_gap": null,
            "max_width": null,
            "order": null,
            "_view_module_version": "1.2.0",
            "grid_template_areas": null,
            "object_position": null,
            "object_fit": null,
            "grid_auto_columns": null,
            "margin": null,
            "display": null,
            "left": null
          }
        },
        "e8fe795615ea483bb911b904a2f0659d": {
          "model_module": "@jupyter-widgets/controls",
          "model_name": "IntProgressModel",
          "state": {
            "_view_name": "ProgressView",
            "style": "IPY_MODEL_e321533bf5094274a52f49f9387cdda8",
            "_dom_classes": [],
            "description": "100%",
            "_model_name": "IntProgressModel",
            "bar_style": "success",
            "max": 1733,
            "_view_module": "@jupyter-widgets/controls",
            "_model_module_version": "1.5.0",
            "value": 1733,
            "_view_count": null,
            "_view_module_version": "1.5.0",
            "orientation": "horizontal",
            "min": 0,
            "description_tooltip": null,
            "_model_module": "@jupyter-widgets/controls",
            "layout": "IPY_MODEL_04b3b70fa29c4677a5e61fd726c18245"
          }
        },
        "231dd8ca216c4445a710879fd676c3ea": {
          "model_module": "@jupyter-widgets/controls",
          "model_name": "HTMLModel",
          "state": {
            "_view_name": "HTMLView",
            "style": "IPY_MODEL_18584eaa95cc43e59a9af603909890af",
            "_dom_classes": [],
            "description": "",
            "_model_name": "HTMLModel",
            "placeholder": "​",
            "_view_module": "@jupyter-widgets/controls",
            "_model_module_version": "1.5.0",
            "value": " 1733/1733 [25:47&lt;00:00,  1.12it/s]",
            "_view_count": null,
            "_view_module_version": "1.5.0",
            "description_tooltip": null,
            "_model_module": "@jupyter-widgets/controls",
            "layout": "IPY_MODEL_b6d9e3e2c0de492489de1a943d08ce08"
          }
        },
        "e321533bf5094274a52f49f9387cdda8": {
          "model_module": "@jupyter-widgets/controls",
          "model_name": "ProgressStyleModel",
          "state": {
            "_view_name": "StyleView",
            "_model_name": "ProgressStyleModel",
            "description_width": "initial",
            "_view_module": "@jupyter-widgets/base",
            "_model_module_version": "1.5.0",
            "_view_count": null,
            "_view_module_version": "1.2.0",
            "bar_color": null,
            "_model_module": "@jupyter-widgets/controls"
          }
        },
        "04b3b70fa29c4677a5e61fd726c18245": {
          "model_module": "@jupyter-widgets/base",
          "model_name": "LayoutModel",
          "state": {
            "_view_name": "LayoutView",
            "grid_template_rows": null,
            "right": null,
            "justify_content": null,
            "_view_module": "@jupyter-widgets/base",
            "overflow": null,
            "_model_module_version": "1.2.0",
            "_view_count": null,
            "flex_flow": null,
            "width": null,
            "min_width": null,
            "border": null,
            "align_items": null,
            "bottom": null,
            "_model_module": "@jupyter-widgets/base",
            "top": null,
            "grid_column": null,
            "overflow_y": null,
            "overflow_x": null,
            "grid_auto_flow": null,
            "grid_area": null,
            "grid_template_columns": null,
            "flex": null,
            "_model_name": "LayoutModel",
            "justify_items": null,
            "grid_row": null,
            "max_height": null,
            "align_content": null,
            "visibility": null,
            "align_self": null,
            "height": null,
            "min_height": null,
            "padding": null,
            "grid_auto_rows": null,
            "grid_gap": null,
            "max_width": null,
            "order": null,
            "_view_module_version": "1.2.0",
            "grid_template_areas": null,
            "object_position": null,
            "object_fit": null,
            "grid_auto_columns": null,
            "margin": null,
            "display": null,
            "left": null
          }
        },
        "18584eaa95cc43e59a9af603909890af": {
          "model_module": "@jupyter-widgets/controls",
          "model_name": "DescriptionStyleModel",
          "state": {
            "_view_name": "StyleView",
            "_model_name": "DescriptionStyleModel",
            "description_width": "",
            "_view_module": "@jupyter-widgets/base",
            "_model_module_version": "1.5.0",
            "_view_count": null,
            "_view_module_version": "1.2.0",
            "_model_module": "@jupyter-widgets/controls"
          }
        },
        "b6d9e3e2c0de492489de1a943d08ce08": {
          "model_module": "@jupyter-widgets/base",
          "model_name": "LayoutModel",
          "state": {
            "_view_name": "LayoutView",
            "grid_template_rows": null,
            "right": null,
            "justify_content": null,
            "_view_module": "@jupyter-widgets/base",
            "overflow": null,
            "_model_module_version": "1.2.0",
            "_view_count": null,
            "flex_flow": null,
            "width": null,
            "min_width": null,
            "border": null,
            "align_items": null,
            "bottom": null,
            "_model_module": "@jupyter-widgets/base",
            "top": null,
            "grid_column": null,
            "overflow_y": null,
            "overflow_x": null,
            "grid_auto_flow": null,
            "grid_area": null,
            "grid_template_columns": null,
            "flex": null,
            "_model_name": "LayoutModel",
            "justify_items": null,
            "grid_row": null,
            "max_height": null,
            "align_content": null,
            "visibility": null,
            "align_self": null,
            "height": null,
            "min_height": null,
            "padding": null,
            "grid_auto_rows": null,
            "grid_gap": null,
            "max_width": null,
            "order": null,
            "_view_module_version": "1.2.0",
            "grid_template_areas": null,
            "object_position": null,
            "object_fit": null,
            "grid_auto_columns": null,
            "margin": null,
            "display": null,
            "left": null
          }
        },
        "bb0605060f6b41ec8e58907f6fc10f1b": {
          "model_module": "@jupyter-widgets/controls",
          "model_name": "HBoxModel",
          "state": {
            "_view_name": "HBoxView",
            "_dom_classes": [],
            "_model_name": "HBoxModel",
            "_view_module": "@jupyter-widgets/controls",
            "_model_module_version": "1.5.0",
            "_view_count": null,
            "_view_module_version": "1.5.0",
            "box_style": "",
            "layout": "IPY_MODEL_5fcd3498d31442e5a581ccfc9c74b975",
            "_model_module": "@jupyter-widgets/controls",
            "children": [
              "IPY_MODEL_757a20aa5ef84e48bbf07776e27e3755",
              "IPY_MODEL_84b183f6dbc349e991b8eee404dc41c5"
            ]
          }
        },
        "5fcd3498d31442e5a581ccfc9c74b975": {
          "model_module": "@jupyter-widgets/base",
          "model_name": "LayoutModel",
          "state": {
            "_view_name": "LayoutView",
            "grid_template_rows": null,
            "right": null,
            "justify_content": null,
            "_view_module": "@jupyter-widgets/base",
            "overflow": null,
            "_model_module_version": "1.2.0",
            "_view_count": null,
            "flex_flow": null,
            "width": null,
            "min_width": null,
            "border": null,
            "align_items": null,
            "bottom": null,
            "_model_module": "@jupyter-widgets/base",
            "top": null,
            "grid_column": null,
            "overflow_y": null,
            "overflow_x": null,
            "grid_auto_flow": null,
            "grid_area": null,
            "grid_template_columns": null,
            "flex": null,
            "_model_name": "LayoutModel",
            "justify_items": null,
            "grid_row": null,
            "max_height": null,
            "align_content": null,
            "visibility": null,
            "align_self": null,
            "height": null,
            "min_height": null,
            "padding": null,
            "grid_auto_rows": null,
            "grid_gap": null,
            "max_width": null,
            "order": null,
            "_view_module_version": "1.2.0",
            "grid_template_areas": null,
            "object_position": null,
            "object_fit": null,
            "grid_auto_columns": null,
            "margin": null,
            "display": null,
            "left": null
          }
        },
        "757a20aa5ef84e48bbf07776e27e3755": {
          "model_module": "@jupyter-widgets/controls",
          "model_name": "IntProgressModel",
          "state": {
            "_view_name": "ProgressView",
            "style": "IPY_MODEL_a24df2ab847d44e4bdda070634a1f3fb",
            "_dom_classes": [],
            "description": "100%",
            "_model_name": "IntProgressModel",
            "bar_style": "success",
            "max": 2372,
            "_view_module": "@jupyter-widgets/controls",
            "_model_module_version": "1.5.0",
            "value": 2372,
            "_view_count": null,
            "_view_module_version": "1.5.0",
            "orientation": "horizontal",
            "min": 0,
            "description_tooltip": null,
            "_model_module": "@jupyter-widgets/controls",
            "layout": "IPY_MODEL_30edc912a52f40449f1cc4a10280713a"
          }
        },
        "84b183f6dbc349e991b8eee404dc41c5": {
          "model_module": "@jupyter-widgets/controls",
          "model_name": "HTMLModel",
          "state": {
            "_view_name": "HTMLView",
            "style": "IPY_MODEL_d7a1014478a14eddb9f5e5a0d3e1a7e6",
            "_dom_classes": [],
            "description": "",
            "_model_name": "HTMLModel",
            "placeholder": "​",
            "_view_module": "@jupyter-widgets/controls",
            "_model_module_version": "1.5.0",
            "value": " 2372/2372 [34:35&lt;00:00,  1.14it/s]",
            "_view_count": null,
            "_view_module_version": "1.5.0",
            "description_tooltip": null,
            "_model_module": "@jupyter-widgets/controls",
            "layout": "IPY_MODEL_d35a9301006a470a9c6f1ad5d0b93bcc"
          }
        },
        "a24df2ab847d44e4bdda070634a1f3fb": {
          "model_module": "@jupyter-widgets/controls",
          "model_name": "ProgressStyleModel",
          "state": {
            "_view_name": "StyleView",
            "_model_name": "ProgressStyleModel",
            "description_width": "initial",
            "_view_module": "@jupyter-widgets/base",
            "_model_module_version": "1.5.0",
            "_view_count": null,
            "_view_module_version": "1.2.0",
            "bar_color": null,
            "_model_module": "@jupyter-widgets/controls"
          }
        },
        "30edc912a52f40449f1cc4a10280713a": {
          "model_module": "@jupyter-widgets/base",
          "model_name": "LayoutModel",
          "state": {
            "_view_name": "LayoutView",
            "grid_template_rows": null,
            "right": null,
            "justify_content": null,
            "_view_module": "@jupyter-widgets/base",
            "overflow": null,
            "_model_module_version": "1.2.0",
            "_view_count": null,
            "flex_flow": null,
            "width": null,
            "min_width": null,
            "border": null,
            "align_items": null,
            "bottom": null,
            "_model_module": "@jupyter-widgets/base",
            "top": null,
            "grid_column": null,
            "overflow_y": null,
            "overflow_x": null,
            "grid_auto_flow": null,
            "grid_area": null,
            "grid_template_columns": null,
            "flex": null,
            "_model_name": "LayoutModel",
            "justify_items": null,
            "grid_row": null,
            "max_height": null,
            "align_content": null,
            "visibility": null,
            "align_self": null,
            "height": null,
            "min_height": null,
            "padding": null,
            "grid_auto_rows": null,
            "grid_gap": null,
            "max_width": null,
            "order": null,
            "_view_module_version": "1.2.0",
            "grid_template_areas": null,
            "object_position": null,
            "object_fit": null,
            "grid_auto_columns": null,
            "margin": null,
            "display": null,
            "left": null
          }
        },
        "d7a1014478a14eddb9f5e5a0d3e1a7e6": {
          "model_module": "@jupyter-widgets/controls",
          "model_name": "DescriptionStyleModel",
          "state": {
            "_view_name": "StyleView",
            "_model_name": "DescriptionStyleModel",
            "description_width": "",
            "_view_module": "@jupyter-widgets/base",
            "_model_module_version": "1.5.0",
            "_view_count": null,
            "_view_module_version": "1.2.0",
            "_model_module": "@jupyter-widgets/controls"
          }
        },
        "d35a9301006a470a9c6f1ad5d0b93bcc": {
          "model_module": "@jupyter-widgets/base",
          "model_name": "LayoutModel",
          "state": {
            "_view_name": "LayoutView",
            "grid_template_rows": null,
            "right": null,
            "justify_content": null,
            "_view_module": "@jupyter-widgets/base",
            "overflow": null,
            "_model_module_version": "1.2.0",
            "_view_count": null,
            "flex_flow": null,
            "width": null,
            "min_width": null,
            "border": null,
            "align_items": null,
            "bottom": null,
            "_model_module": "@jupyter-widgets/base",
            "top": null,
            "grid_column": null,
            "overflow_y": null,
            "overflow_x": null,
            "grid_auto_flow": null,
            "grid_area": null,
            "grid_template_columns": null,
            "flex": null,
            "_model_name": "LayoutModel",
            "justify_items": null,
            "grid_row": null,
            "max_height": null,
            "align_content": null,
            "visibility": null,
            "align_self": null,
            "height": null,
            "min_height": null,
            "padding": null,
            "grid_auto_rows": null,
            "grid_gap": null,
            "max_width": null,
            "order": null,
            "_view_module_version": "1.2.0",
            "grid_template_areas": null,
            "object_position": null,
            "object_fit": null,
            "grid_auto_columns": null,
            "margin": null,
            "display": null,
            "left": null
          }
        },
        "b80e074d02ef469cb384110263cd14d2": {
          "model_module": "@jupyter-widgets/controls",
          "model_name": "HBoxModel",
          "state": {
            "_view_name": "HBoxView",
            "_dom_classes": [],
            "_model_name": "HBoxModel",
            "_view_module": "@jupyter-widgets/controls",
            "_model_module_version": "1.5.0",
            "_view_count": null,
            "_view_module_version": "1.5.0",
            "box_style": "",
            "layout": "IPY_MODEL_2ff6248d903342a6ac0a69e9e0cc116f",
            "_model_module": "@jupyter-widgets/controls",
            "children": [
              "IPY_MODEL_ceb39b7e35584fd2860c16d2e47c3a4f",
              "IPY_MODEL_c2e6fcc6846743cab24605b8ffcf4b29"
            ]
          }
        },
        "2ff6248d903342a6ac0a69e9e0cc116f": {
          "model_module": "@jupyter-widgets/base",
          "model_name": "LayoutModel",
          "state": {
            "_view_name": "LayoutView",
            "grid_template_rows": null,
            "right": null,
            "justify_content": null,
            "_view_module": "@jupyter-widgets/base",
            "overflow": null,
            "_model_module_version": "1.2.0",
            "_view_count": null,
            "flex_flow": null,
            "width": null,
            "min_width": null,
            "border": null,
            "align_items": null,
            "bottom": null,
            "_model_module": "@jupyter-widgets/base",
            "top": null,
            "grid_column": null,
            "overflow_y": null,
            "overflow_x": null,
            "grid_auto_flow": null,
            "grid_area": null,
            "grid_template_columns": null,
            "flex": null,
            "_model_name": "LayoutModel",
            "justify_items": null,
            "grid_row": null,
            "max_height": null,
            "align_content": null,
            "visibility": null,
            "align_self": null,
            "height": null,
            "min_height": null,
            "padding": null,
            "grid_auto_rows": null,
            "grid_gap": null,
            "max_width": null,
            "order": null,
            "_view_module_version": "1.2.0",
            "grid_template_areas": null,
            "object_position": null,
            "object_fit": null,
            "grid_auto_columns": null,
            "margin": null,
            "display": null,
            "left": null
          }
        },
        "ceb39b7e35584fd2860c16d2e47c3a4f": {
          "model_module": "@jupyter-widgets/controls",
          "model_name": "IntProgressModel",
          "state": {
            "_view_name": "ProgressView",
            "style": "IPY_MODEL_ed0b7368a63e41cbbb137935c9bb9e90",
            "_dom_classes": [],
            "description": "100%",
            "_model_name": "IntProgressModel",
            "bar_style": "success",
            "max": 2357,
            "_view_module": "@jupyter-widgets/controls",
            "_model_module_version": "1.5.0",
            "value": 2357,
            "_view_count": null,
            "_view_module_version": "1.5.0",
            "orientation": "horizontal",
            "min": 0,
            "description_tooltip": null,
            "_model_module": "@jupyter-widgets/controls",
            "layout": "IPY_MODEL_c7f8de354904477480b6d98e4b36e075"
          }
        },
        "c2e6fcc6846743cab24605b8ffcf4b29": {
          "model_module": "@jupyter-widgets/controls",
          "model_name": "HTMLModel",
          "state": {
            "_view_name": "HTMLView",
            "style": "IPY_MODEL_4df6a2962ba84f5687a56fa03cc61934",
            "_dom_classes": [],
            "description": "",
            "_model_name": "HTMLModel",
            "placeholder": "​",
            "_view_module": "@jupyter-widgets/controls",
            "_model_module_version": "1.5.0",
            "value": " 2357/2357 [34:37&lt;00:00,  1.13it/s]",
            "_view_count": null,
            "_view_module_version": "1.5.0",
            "description_tooltip": null,
            "_model_module": "@jupyter-widgets/controls",
            "layout": "IPY_MODEL_9f63be8c492d416fabb2ee834e4cb82f"
          }
        },
        "ed0b7368a63e41cbbb137935c9bb9e90": {
          "model_module": "@jupyter-widgets/controls",
          "model_name": "ProgressStyleModel",
          "state": {
            "_view_name": "StyleView",
            "_model_name": "ProgressStyleModel",
            "description_width": "initial",
            "_view_module": "@jupyter-widgets/base",
            "_model_module_version": "1.5.0",
            "_view_count": null,
            "_view_module_version": "1.2.0",
            "bar_color": null,
            "_model_module": "@jupyter-widgets/controls"
          }
        },
        "c7f8de354904477480b6d98e4b36e075": {
          "model_module": "@jupyter-widgets/base",
          "model_name": "LayoutModel",
          "state": {
            "_view_name": "LayoutView",
            "grid_template_rows": null,
            "right": null,
            "justify_content": null,
            "_view_module": "@jupyter-widgets/base",
            "overflow": null,
            "_model_module_version": "1.2.0",
            "_view_count": null,
            "flex_flow": null,
            "width": null,
            "min_width": null,
            "border": null,
            "align_items": null,
            "bottom": null,
            "_model_module": "@jupyter-widgets/base",
            "top": null,
            "grid_column": null,
            "overflow_y": null,
            "overflow_x": null,
            "grid_auto_flow": null,
            "grid_area": null,
            "grid_template_columns": null,
            "flex": null,
            "_model_name": "LayoutModel",
            "justify_items": null,
            "grid_row": null,
            "max_height": null,
            "align_content": null,
            "visibility": null,
            "align_self": null,
            "height": null,
            "min_height": null,
            "padding": null,
            "grid_auto_rows": null,
            "grid_gap": null,
            "max_width": null,
            "order": null,
            "_view_module_version": "1.2.0",
            "grid_template_areas": null,
            "object_position": null,
            "object_fit": null,
            "grid_auto_columns": null,
            "margin": null,
            "display": null,
            "left": null
          }
        },
        "4df6a2962ba84f5687a56fa03cc61934": {
          "model_module": "@jupyter-widgets/controls",
          "model_name": "DescriptionStyleModel",
          "state": {
            "_view_name": "StyleView",
            "_model_name": "DescriptionStyleModel",
            "description_width": "",
            "_view_module": "@jupyter-widgets/base",
            "_model_module_version": "1.5.0",
            "_view_count": null,
            "_view_module_version": "1.2.0",
            "_model_module": "@jupyter-widgets/controls"
          }
        },
        "9f63be8c492d416fabb2ee834e4cb82f": {
          "model_module": "@jupyter-widgets/base",
          "model_name": "LayoutModel",
          "state": {
            "_view_name": "LayoutView",
            "grid_template_rows": null,
            "right": null,
            "justify_content": null,
            "_view_module": "@jupyter-widgets/base",
            "overflow": null,
            "_model_module_version": "1.2.0",
            "_view_count": null,
            "flex_flow": null,
            "width": null,
            "min_width": null,
            "border": null,
            "align_items": null,
            "bottom": null,
            "_model_module": "@jupyter-widgets/base",
            "top": null,
            "grid_column": null,
            "overflow_y": null,
            "overflow_x": null,
            "grid_auto_flow": null,
            "grid_area": null,
            "grid_template_columns": null,
            "flex": null,
            "_model_name": "LayoutModel",
            "justify_items": null,
            "grid_row": null,
            "max_height": null,
            "align_content": null,
            "visibility": null,
            "align_self": null,
            "height": null,
            "min_height": null,
            "padding": null,
            "grid_auto_rows": null,
            "grid_gap": null,
            "max_width": null,
            "order": null,
            "_view_module_version": "1.2.0",
            "grid_template_areas": null,
            "object_position": null,
            "object_fit": null,
            "grid_auto_columns": null,
            "margin": null,
            "display": null,
            "left": null
          }
        },
        "3a660c395d0b4986a661c6e502060c6c": {
          "model_module": "@jupyter-widgets/controls",
          "model_name": "HBoxModel",
          "state": {
            "_view_name": "HBoxView",
            "_dom_classes": [],
            "_model_name": "HBoxModel",
            "_view_module": "@jupyter-widgets/controls",
            "_model_module_version": "1.5.0",
            "_view_count": null,
            "_view_module_version": "1.5.0",
            "box_style": "",
            "layout": "IPY_MODEL_d36c779a6c2944b08dd4bb00b01b5aac",
            "_model_module": "@jupyter-widgets/controls",
            "children": [
              "IPY_MODEL_fb38501b7c5a46fdb3847cce76c5d9e8",
              "IPY_MODEL_e863ca6d888e4e31aff16354d4ea4409"
            ]
          }
        },
        "d36c779a6c2944b08dd4bb00b01b5aac": {
          "model_module": "@jupyter-widgets/base",
          "model_name": "LayoutModel",
          "state": {
            "_view_name": "LayoutView",
            "grid_template_rows": null,
            "right": null,
            "justify_content": null,
            "_view_module": "@jupyter-widgets/base",
            "overflow": null,
            "_model_module_version": "1.2.0",
            "_view_count": null,
            "flex_flow": null,
            "width": null,
            "min_width": null,
            "border": null,
            "align_items": null,
            "bottom": null,
            "_model_module": "@jupyter-widgets/base",
            "top": null,
            "grid_column": null,
            "overflow_y": null,
            "overflow_x": null,
            "grid_auto_flow": null,
            "grid_area": null,
            "grid_template_columns": null,
            "flex": null,
            "_model_name": "LayoutModel",
            "justify_items": null,
            "grid_row": null,
            "max_height": null,
            "align_content": null,
            "visibility": null,
            "align_self": null,
            "height": null,
            "min_height": null,
            "padding": null,
            "grid_auto_rows": null,
            "grid_gap": null,
            "max_width": null,
            "order": null,
            "_view_module_version": "1.2.0",
            "grid_template_areas": null,
            "object_position": null,
            "object_fit": null,
            "grid_auto_columns": null,
            "margin": null,
            "display": null,
            "left": null
          }
        },
        "fb38501b7c5a46fdb3847cce76c5d9e8": {
          "model_module": "@jupyter-widgets/controls",
          "model_name": "IntProgressModel",
          "state": {
            "_view_name": "ProgressView",
            "style": "IPY_MODEL_685b94b256c245bab5c73be1fa53c7e7",
            "_dom_classes": [],
            "description": "  1%",
            "_model_name": "IntProgressModel",
            "bar_style": "",
            "max": 2373,
            "_view_module": "@jupyter-widgets/controls",
            "_model_module_version": "1.5.0",
            "value": 24,
            "_view_count": null,
            "_view_module_version": "1.5.0",
            "orientation": "horizontal",
            "min": 0,
            "description_tooltip": null,
            "_model_module": "@jupyter-widgets/controls",
            "layout": "IPY_MODEL_9ce940ad7f9543d58fc48fc73d2d7806"
          }
        },
        "e863ca6d888e4e31aff16354d4ea4409": {
          "model_module": "@jupyter-widgets/controls",
          "model_name": "HTMLModel",
          "state": {
            "_view_name": "HTMLView",
            "style": "IPY_MODEL_9222209403d144ae97e92681925732e7",
            "_dom_classes": [],
            "description": "",
            "_model_name": "HTMLModel",
            "placeholder": "​",
            "_view_module": "@jupyter-widgets/controls",
            "_model_module_version": "1.5.0",
            "value": " 24/2373 [00:19&lt;31:50,  1.23it/s]",
            "_view_count": null,
            "_view_module_version": "1.5.0",
            "description_tooltip": null,
            "_model_module": "@jupyter-widgets/controls",
            "layout": "IPY_MODEL_24f0ef65760d4b6d972b29c208037e38"
          }
        },
        "685b94b256c245bab5c73be1fa53c7e7": {
          "model_module": "@jupyter-widgets/controls",
          "model_name": "ProgressStyleModel",
          "state": {
            "_view_name": "StyleView",
            "_model_name": "ProgressStyleModel",
            "description_width": "initial",
            "_view_module": "@jupyter-widgets/base",
            "_model_module_version": "1.5.0",
            "_view_count": null,
            "_view_module_version": "1.2.0",
            "bar_color": null,
            "_model_module": "@jupyter-widgets/controls"
          }
        },
        "9ce940ad7f9543d58fc48fc73d2d7806": {
          "model_module": "@jupyter-widgets/base",
          "model_name": "LayoutModel",
          "state": {
            "_view_name": "LayoutView",
            "grid_template_rows": null,
            "right": null,
            "justify_content": null,
            "_view_module": "@jupyter-widgets/base",
            "overflow": null,
            "_model_module_version": "1.2.0",
            "_view_count": null,
            "flex_flow": null,
            "width": null,
            "min_width": null,
            "border": null,
            "align_items": null,
            "bottom": null,
            "_model_module": "@jupyter-widgets/base",
            "top": null,
            "grid_column": null,
            "overflow_y": null,
            "overflow_x": null,
            "grid_auto_flow": null,
            "grid_area": null,
            "grid_template_columns": null,
            "flex": null,
            "_model_name": "LayoutModel",
            "justify_items": null,
            "grid_row": null,
            "max_height": null,
            "align_content": null,
            "visibility": null,
            "align_self": null,
            "height": null,
            "min_height": null,
            "padding": null,
            "grid_auto_rows": null,
            "grid_gap": null,
            "max_width": null,
            "order": null,
            "_view_module_version": "1.2.0",
            "grid_template_areas": null,
            "object_position": null,
            "object_fit": null,
            "grid_auto_columns": null,
            "margin": null,
            "display": null,
            "left": null
          }
        },
        "9222209403d144ae97e92681925732e7": {
          "model_module": "@jupyter-widgets/controls",
          "model_name": "DescriptionStyleModel",
          "state": {
            "_view_name": "StyleView",
            "_model_name": "DescriptionStyleModel",
            "description_width": "",
            "_view_module": "@jupyter-widgets/base",
            "_model_module_version": "1.5.0",
            "_view_count": null,
            "_view_module_version": "1.2.0",
            "_model_module": "@jupyter-widgets/controls"
          }
        },
        "24f0ef65760d4b6d972b29c208037e38": {
          "model_module": "@jupyter-widgets/base",
          "model_name": "LayoutModel",
          "state": {
            "_view_name": "LayoutView",
            "grid_template_rows": null,
            "right": null,
            "justify_content": null,
            "_view_module": "@jupyter-widgets/base",
            "overflow": null,
            "_model_module_version": "1.2.0",
            "_view_count": null,
            "flex_flow": null,
            "width": null,
            "min_width": null,
            "border": null,
            "align_items": null,
            "bottom": null,
            "_model_module": "@jupyter-widgets/base",
            "top": null,
            "grid_column": null,
            "overflow_y": null,
            "overflow_x": null,
            "grid_auto_flow": null,
            "grid_area": null,
            "grid_template_columns": null,
            "flex": null,
            "_model_name": "LayoutModel",
            "justify_items": null,
            "grid_row": null,
            "max_height": null,
            "align_content": null,
            "visibility": null,
            "align_self": null,
            "height": null,
            "min_height": null,
            "padding": null,
            "grid_auto_rows": null,
            "grid_gap": null,
            "max_width": null,
            "order": null,
            "_view_module_version": "1.2.0",
            "grid_template_areas": null,
            "object_position": null,
            "object_fit": null,
            "grid_auto_columns": null,
            "margin": null,
            "display": null,
            "left": null
          }
        }
      }
    }
  },
  "cells": [
    {
      "cell_type": "markdown",
      "metadata": {
        "id": "GCQNHHBAzzo-",
        "colab_type": "text"
      },
      "source": [
        "**Understanding the Problem Statement for our Speech-to-Text Project**\n",
        "\n",
        "Let’s understand the problem statement of our project before we move into the implementation part.\n",
        "\n",
        "We might be on the verge of having too many screens around us. It seems like every day, new versions of common objects are “re-invented” with built-in wifi and bright touchscreens. A promising antidote to our screen addiction is voice interfaces. \n",
        "\n",
        "TensorFlow recently released the Speech Commands Datasets. It includes 65,000 one-second long utterances of 30 short words, by thousands of different people. We’ll build a speech recognition system that understands simple spoken commands.\n",
        "\n",
        "You can download the dataset from [here](http://download.tensorflow.org/data/speech_commands_v0.01.tar.gz).\n",
        "\n",
        "**Implementing the Speech-to-Text Model in Python**\n",
        "\n",
        "The wait is over! It’s time to build our own Speech-to-Text model from scratch.\n",
        "\n",
        "**Import the libraries**\n",
        "\n",
        "First, import all the necessary libraries into our notebook. LibROSA and SciPy are the Python libraries used for processing audio signals."
      ]
    },
    {
      "cell_type": "markdown",
      "metadata": {
        "id": "ZwHAnw0VzzpE",
        "colab_type": "text"
      },
      "source": [
        "**OBS**\n",
        "\n",
        "In order to run properly the libraries `sounddevice` and `soundfile`, you must follow this steps:\n",
        "\n",
        "    1. Install the libportaudio2/portaudio in your SO (apt install libportaudio2/dnf install portaudio - probably it is already installed);\n",
        "    2. Install the sounddevice library via conda (conda install python-sounddevice);\n",
        "    3. Remove conda portaudio installation (conda uninstall --force portaudio)."
      ]
    },
    {
      "cell_type": "code",
      "metadata": {
        "id": "dx2cNgeuDhMt",
        "colab_type": "code",
        "outputId": "6faeb704-a5b7-41c6-c898-d52589d2148a",
        "colab": {
          "base_uri": "https://localhost:8080/",
          "height": 119
        }
      },
      "source": [
        "%tensorflow_version 1.4\n",
        "import tensorflow as tf\n",
        "device_name = tf.test.gpu_device_name()\n",
        "if device_name != '/device:GPU:0':\n",
        "  raise SystemError('GPU device not found')\n",
        "print('Found GPU at: {}'.format(device_name))"
      ],
      "execution_count": 3,
      "outputs": [
        {
          "output_type": "stream",
          "text": [
            "`%tensorflow_version` only switches the major version: 1.x or 2.x.\n",
            "You set: `1.4`. This will be interpreted as: `1.x`.\n",
            "\n",
            "\n",
            "TensorFlow is already loaded. Please restart the runtime to change versions.\n",
            "Found GPU at: /device:GPU:0\n"
          ],
          "name": "stdout"
        }
      ]
    },
    {
      "cell_type": "code",
      "metadata": {
        "id": "NMC4rM0XEBwL",
        "colab_type": "code",
        "outputId": "af810b64-c5a9-4e39-ade0-a161407e79f1",
        "colab": {
          "base_uri": "https://localhost:8080/",
          "height": 476
        }
      },
      "source": [
        "from tensorflow.python.client import device_lib\n",
        "device_lib.list_local_devices()"
      ],
      "execution_count": 1,
      "outputs": [
        {
          "output_type": "execute_result",
          "data": {
            "text/plain": [
              "[name: \"/device:CPU:0\"\n",
              " device_type: \"CPU\"\n",
              " memory_limit: 268435456\n",
              " locality {\n",
              " }\n",
              " incarnation: 2384634275654807221, name: \"/device:XLA_CPU:0\"\n",
              " device_type: \"XLA_CPU\"\n",
              " memory_limit: 17179869184\n",
              " locality {\n",
              " }\n",
              " incarnation: 3703683077530991044\n",
              " physical_device_desc: \"device: XLA_CPU device\", name: \"/device:XLA_GPU:0\"\n",
              " device_type: \"XLA_GPU\"\n",
              " memory_limit: 17179869184\n",
              " locality {\n",
              " }\n",
              " incarnation: 3503886275000041579\n",
              " physical_device_desc: \"device: XLA_GPU device\", name: \"/device:GPU:0\"\n",
              " device_type: \"GPU\"\n",
              " memory_limit: 15701463552\n",
              " locality {\n",
              "   bus_id: 1\n",
              "   links {\n",
              "   }\n",
              " }\n",
              " incarnation: 17520393229331075543\n",
              " physical_device_desc: \"device: 0, name: Tesla P100-PCIE-16GB, pci bus id: 0000:00:04.0, compute capability: 6.0\"]"
            ]
          },
          "metadata": {
            "tags": []
          },
          "execution_count": 1
        }
      ]
    },
    {
      "cell_type": "code",
      "metadata": {
        "id": "8_2zjZquDyB6",
        "colab_type": "code",
        "outputId": "0a58933a-8662-435f-9048-a6c1e72464f9",
        "colab": {
          "base_uri": "https://localhost:8080/",
          "height": 122
        }
      },
      "source": [
        "from google.colab import drive\n",
        "drive.mount('/content/drive')"
      ],
      "execution_count": 1,
      "outputs": [
        {
          "output_type": "stream",
          "text": [
            "Go to this URL in a browser: https://accounts.google.com/o/oauth2/auth?client_id=947318989803-6bn6qk8qdgf4n4g3pfee6491hc0brc4i.apps.googleusercontent.com&redirect_uri=urn%3aietf%3awg%3aoauth%3a2.0%3aoob&response_type=code&scope=email%20https%3a%2f%2fwww.googleapis.com%2fauth%2fdocs.test%20https%3a%2f%2fwww.googleapis.com%2fauth%2fdrive%20https%3a%2f%2fwww.googleapis.com%2fauth%2fdrive.photos.readonly%20https%3a%2f%2fwww.googleapis.com%2fauth%2fpeopleapi.readonly\n",
            "\n",
            "Enter your authorization code:\n",
            "··········\n",
            "Mounted at /content/drive\n"
          ],
          "name": "stdout"
        }
      ]
    },
    {
      "cell_type": "code",
      "metadata": {
        "ExecuteTime": {
          "end_time": "2019-11-23T13:45:05.986257Z",
          "start_time": "2019-11-23T13:45:04.946532Z"
        },
        "id": "mjdI-7vyzzpI",
        "colab_type": "code",
        "colab": {}
      },
      "source": [
        "import os\n",
        "import librosa \n",
        "import IPython.display as ipd\n",
        "import matplotlib.pyplot as plt\n",
        "import numpy as np\n",
        "import warnings\n",
        "\n",
        "#import sounddevice as sd\n",
        "#import soundfile as sf\n",
        "\n",
        "from tqdm.auto import tqdm\n",
        "\n",
        "warnings.filterwarnings(\"ignore\")"
      ],
      "execution_count": 0,
      "outputs": []
    },
    {
      "cell_type": "code",
      "metadata": {
        "ExecuteTime": {
          "end_time": "2019-11-23T13:45:11.375634Z",
          "start_time": "2019-11-23T13:45:11.371996Z"
        },
        "id": "evmXa-MFzzpZ",
        "colab_type": "code",
        "outputId": "41d3ea6e-1873-4924-948d-3707a657a01e",
        "colab": {
          "base_uri": "https://localhost:8080/",
          "height": 34
        }
      },
      "source": [
        "os.listdir('/content/drive/My Drive/Estudos/FIB - PÓS/Aula-38/Numbers/')"
      ],
      "execution_count": 3,
      "outputs": [
        {
          "output_type": "execute_result",
          "data": {
            "text/plain": [
              "['train', 'test']"
            ]
          },
          "metadata": {
            "tags": []
          },
          "execution_count": 3
        }
      ]
    },
    {
      "cell_type": "markdown",
      "metadata": {
        "id": "nII4s2K7zzpr",
        "colab_type": "text"
      },
      "source": [
        "**Data Exploration and Visualization**\n",
        "\n",
        "Data Exploration and Visualization helps us to understand the data as well as pre-processing steps in a better way. \n",
        "\n",
        "**Visualization of Audio signal in time series domain**\n",
        "\n",
        "Now, we’ll visualize the audio signal in the time series domain:"
      ]
    },
    {
      "cell_type": "code",
      "metadata": {
        "id": "u00avLDwXEqC",
        "colab_type": "code",
        "colab": {}
      },
      "source": [
        "train_audio_path = '/content/drive/My Drive/Estudos/FIB - PÓS/Aula-38/Numbers/train/'\n",
        "samples, sample_rate = librosa.load(train_audio_path+'one/0a7c2a8d_nohash_0.wav', sr = 16000)"
      ],
      "execution_count": 0,
      "outputs": []
    },
    {
      "cell_type": "code",
      "metadata": {
        "id": "Vwu09FiKXGQc",
        "colab_type": "code",
        "colab": {
          "base_uri": "https://localhost:8080/",
          "height": 34
        },
        "outputId": "0d1edb14-ea99-4337-d46c-e695ede33167"
      },
      "source": [
        "samples.shape"
      ],
      "execution_count": 7,
      "outputs": [
        {
          "output_type": "execute_result",
          "data": {
            "text/plain": [
              "(16000,)"
            ]
          },
          "metadata": {
            "tags": []
          },
          "execution_count": 7
        }
      ]
    },
    {
      "cell_type": "code",
      "metadata": {
        "ExecuteTime": {
          "end_time": "2019-11-23T13:45:54.499304Z",
          "start_time": "2019-11-23T13:45:53.977188Z"
        },
        "id": "APon64uVzzpu",
        "colab_type": "code",
        "outputId": "09379a26-62a4-4396-bc60-7985cdfe6578",
        "colab": {
          "base_uri": "https://localhost:8080/",
          "height": 293
        }
      },
      "source": [
        "fig = plt.figure(figsize=(14, 8))\n",
        "ax1 = fig.add_subplot(211)\n",
        "ax1.set_title('Raw wave of ' + 'one/0a7c2a8d_nohash_0.wav')\n",
        "ax1.set_xlabel('time')\n",
        "ax1.set_ylabel('Amplitude')\n",
        "ax1.plot(np.linspace(0, sample_rate/len(samples), sample_rate), samples)"
      ],
      "execution_count": 9,
      "outputs": [
        {
          "output_type": "execute_result",
          "data": {
            "text/plain": [
              "[<matplotlib.lines.Line2D at 0x7fce2459b710>]"
            ]
          },
          "metadata": {
            "tags": []
          },
          "execution_count": 9
        },
        {
          "output_type": "display_data",
          "data": {
            "image/png": "[encoded data removed]",
            "text/plain": [
              "<Figure size 1008x576 with 1 Axes>"
            ]
          },
          "metadata": {
            "tags": [],
            "needs_background": "light"
          }
        }
      ]
    },
    {
      "cell_type": "markdown",
      "metadata": {
        "id": "Q6AUZKdRzzp8",
        "colab_type": "text"
      },
      "source": [
        "**Sampling rate **\n",
        "\n",
        "Let us now look at the sampling rate of the audio signals"
      ]
    },
    {
      "cell_type": "code",
      "metadata": {
        "ExecuteTime": {
          "end_time": "2019-11-23T13:46:02.808234Z",
          "start_time": "2019-11-23T13:46:02.799106Z"
        },
        "id": "2WxLcDhezzp_",
        "colab_type": "code",
        "outputId": "774b8a4b-d032-4047-c109-aea1d7f41ed2",
        "colab": {
          "base_uri": "https://localhost:8080/",
          "height": 75
        }
      },
      "source": [
        "ipd.Audio(samples, rate=sample_rate)"
      ],
      "execution_count": 0,
      "outputs": [
        {
          "output_type": "execute_result",
          "data": {
            "text/html": [
              "\n",
              "                <audio controls=\"controls\" >\n",
              "                    <source src=\"data:audio/wav;base64,UklGRiR9AABXQVZFZm10IBAAAAABAAEAgD4AAAB9AAACABAAZGF0YQB9AAATACoARAAxAP3/2v/q/wcAAwDP/6z/z/8TABMA5v/e/wsAMQAeAPX/7f8AABYAAADL/7//1v8eAEgAHgDe/9P/HgA9AP3/qP+o//n/KgAPAMP/jv/T/y0AGgC//6j/+f9UAHIAFgAAAAsAHgAHAL//sP+4/zkAOQAaAM//3v8tAB4AAACh//H/IgB+AD0A9f/1/wAAWADx/7z/d//q//3/x/+O/4L/AADL/97/hv/L/9b/7f/9/7j/HgAqAGMA4v/T/wAAXwBnANP/7f8tAJ0AVADT/4L/y/89ACIA5v9r/5n//f9MAOr/hv/P/xoARADP/6j/BwCwAI0AqP8i/7j/2gAnAQcAjf7O/pkA/QEXAcL+Iv7T/9sBqQGw/0z+Iv8IAfUB9QBY/6j+lf/1AD4BhgBg/1j/+f/OAJkA/f+o/9b/JgBUAEwA/f/e/+b/DwDa/wAA/f8iAMv/2v+0/y0ATAAWAHr/UP/e/wsAkQBUABYAF/+Z/z0A8QA1ABYAev+O/5H++f+PAmUDn/3X9sn90Qj7CAz7V/OL+68JHgrw/Zz0a/pEBbYIWAF7+gz7DAExBVID9P58/Dj+wAHFA6wAB/5i/TUAZAEMAVD/wv53/zEAEwD9/zEA+f9j/3P/YwBYALAA+f+O/4r/KgDHAH4Ay/+w/7z/FgBjAOb/4v8mAHoAqP6w/50AfgBbAEn/4v8mAFEB4gCZ/yb//QGoAM//cgCgADEAw/+l/yn+zwEXAXf//vwS/oMBUQKZAIv8vfzPAQYDGv7W/jkAlgG8/1j/Iv/pAFUCb/9z/y7/HwG0ABsBYwB2/lz/IwFkAYYA5v/O/nf/XwCZACIA3v9Q/3r/PQB+AMv/D//a/y0AXwD9/4L/Y/8tAKwASABn/6v+sP+ZADIBKgDl/vj+VABoAZkAYP8X/0gA8QCZAKX/d/+VANYAIgCR/47/rAA+AYIA/P6o/u3/HwGOAUgA+/1a/QMAVQL5AVP+Svyn/eYBhAMaADj9Dv3iAHwC8gHl/t39ggCaAVEBUP81/yoATQFFAbj/v/4u/7cAtwB+AKj/VP8P/2v/ywBVAQAAJf6k/j0AywFjALf+Kv9vAAgBZwBv/8//RACNABoAjv+R/wcAhgD9/+3/Iv+l/yoAQQATAHf/b/+8/zkAbwAtAL//OQBIAOr/v/8AAGsAWwAHANr/IgBrAEQA+f85AGMABwCZ/4r/AAA5AEwAx/93/7j/RACZABMAev9U/yoAUAAtANr/jv/a/yIAMQALAPn/y//e/x4AUAAxADEAIgAPABMAZwBjAC0AKgDx/4b/sP8qAGMAy/8i/2v/3v9MAMv/kf+8/zkARAADABYAAAAtAO3//f8WAFAALQDe/xoANQAqAN7/mf+0/0QAXwDt/y7/WP8DAGMAIgB3/0n/pf9jAJEAKgA9/1j/kQAXASoAQf+h/5kA0gDa/37/v/9yAIYAMQDe/4r/uP8xAKwAUADT/2//3v9+AJEA9f+R/8P/AAAeAAsAAwDH/8f/DwAaAAcAAAD9/0EAIgD1/+3/MQBnAEEA4v+8/wcARAAqAMv/y//9/wAArP+4/wcAHgDi/4b/rP8xAJUANQCC/47/BwBYAEQA5v+l/7j/PQBnAAMAkf+l/xYAWwAmALj/vP/1/yIAGgDx/9P/DwBYAFQALQDa/8f/4v9nAGsADwDP/+r/bwCJADUAvP8WAHoAhgALAMP/3v/x/wMA2v/q/+r/EwAHAPH/3v/T/+3/AwA1ADkAFgC0/5H/2v9BAEQAw/96/7j/PQBYACYA6v/m/xoAOQBMAAcAAwDt//H/FgAmAPn/nf+8//n/HgAWANr/nf+h/+L/EwADAP3/v/+w/wMAQQA1APX/sP+l/wMAMQAaALD/ev/P/zkAYwADAMv/w/8WAGsAfgAxANP/1v8DAFsAPQDq/6j/y/89AIIASADD/7//AwA9ABMAnf+Z/yYAlQBMALT/mf8LAEEAIgD5/+b/EwAiAAcAAAAmAB4A7f/W//n/YwCVACIAof+//0gAkQA5AM//vP8LAHIAWwADANP/+f81AEwAFgDP/7z/0/8LABYAAADW/8P/AAAxAP3/sP+d/9r/GgDm/4b/b//L/x4AAACd/3P/3v8qABYAy/+l/+b/LQA9AO3/uP/T/yIAWwA9AAsABwAxAFAAWwBnAEEA/f/P/wMAXwBfAA8Az/8AAHYAjQAiAMf/1v81AFAABwC8/6z/0/8HAA8A6v/P/97/4v/x/wcABwDD/4r/vP/x/wMA4v+s/8//QQBvAB4AsP+R//X/OQD5/4b/a//L/x4AIgDq/9b/8f8LACIALQAqAP3/1v+o/6j/9f8LAP3/0//H/wAAMQAiAOL/vP8AAH4AhgAPAKj/tP8eAF8ANQDe/7z/CwBfAFQAAADT/wMAVABvAD0A9f/t/xoAVABEAAcA2v/i/wsAEwD1/8//y/8DACYAFgAAAPH/8f/i/97/3v/x/wcA8f/m//X/GgBIACoA9f/5/yIAOQAaAOr/1v8LADEAOQAWAAsALQAtACIABwD9/wMAJgAqAP3/8f8AAAcA/f/x/+r/7f81AF8AOQAHAPn/IgBIACoAy/+Z/9P/AwADAOr/z//e/wsAIgALANP/sP/L/+3/8f+//6H/w//e/97/sP9z/3f/2v8eABMA4v/H/wsAUABMAAsA+f8LAC0AQQAPAPn/AwAiAEgARAAPAO3/9f8PABYAAwD1/9r/0//q/xYAGgDa/9P/9f9BAFsAIgD5//H/IgA5AA8A8f/x/w8ANQAxAA8A/f8AABoARAA1APH/6v8TADEAHgD5/+3//f8eABMA9f/T/9r/9f/i/8//4v8DAA8ABwD5//H/CwAHAPn/5v/m/wsADwDq/7z/tP/e/wsAFgAAAOr/7f8DAAsAAADi/97//f8PAAMA5v/a/+3/AAAAAPH/7f8AACoAPQAiAA8A/f/5/wMABwAWAAsABwAeADEALQD9/+L/+f8iAD0AIgAPAAAAEwAeAAAA6v/i/w8AEwAAAP3/DwAtAB4A9f/L/+L/DwAPAOr/z//i/wMAAwDi/7//vP/q/wcAAADm/97/8f8WAB4ABwDi/8P/6v8eAAsAv/+l/9b//f/a/5H/ev+s/97/3v+w/6H/v//a/+b//f8TAP3/8f8TACoAQQAtAAsAFgBEAFsAPQATAAAAFgAxAEQATAA1AB4AIgA9AEQAMQAmABoANQBnAEQAFgAWADUAQQAaAO3/7f8aADUAHgADAPn/9f8LACIADwD1/wAAGgAaAAAA6v/t/w8AIgATAAAAAAAHAA8AAwD9//n/8f/x//n/7f/m/+b/6v/a/7j/sP/T/wAA5v/H/+L/+f8HANr/uP/L//H/8f/D/7T/rP/T/+b/z/+o/6H/0//i//X/6v/P/+3/AAADAA8AKgAeAAcA/f/1//H//f8AAAcAEwAaACIACwADAAsAQQByAGMARAAiAEgAYwA9AB4ABwAHAA8A+f/L/8f/5v8AAAMA8f/a/+b/AAAAAAAAAAADAAsAEwAiABMA6v/L/+r/HgAiAAcAAAD9/wAABwAPABMAIgA9AGsAegBBAA8AAwADAA8A/f/i/+b/2v/e/+L/2v+0/53/y//1//H/1v/P/+b/4v/P/8v/3v8AAPX/8f8AAPX/6v/x/wAAAwAHAAMA/f8HABoAHgAqAD0ANQBMAFgAWwBbAD0AKgAiADkAUABMAEEARABBACoAGgAiABoADwDx/9r/7f/L/5n/of/L//3/z/+V/2f/YP+O/6j/sP+s/6z/of+Z/5H/fv93/37/nf+//8f/x//P/9P/7f/x/9r/y//a/wAALQBEADkAMQAxAEwAWABEAEEAPQA5AD0AKgALAAAAFgAxAFAAegCgAJ0AlQCkAMcA1gCwAIkAegB6AJEAcgBUAFAAOQA5ACIABwDi/8P/v/+w/7z/kf9U/2P/mf+s/6X/pf+h/7T/x//W/97/z//P/+L/5v/e/9r/z//L/8f/1v/e/8f/tP/P//X/AwD9/+3/9f8HABMAHgAWABMADwAHAA8A9f/t/wcAFgA1AC0AFgAWABMADwATAA8AFgAWAAsABwD9//X/+f/9/wsAAADq//3/7f/T/7//rP+l/6X/y//a/8//x//L/97/5v/a/+r/AAD9/wsAGgAHAPn//f8TAC0ALQAWAAsAMQBQAFAAPQAxACYAIgA9AEgAWwBMADEARAAxAC0AIgAWACYAJgAxABoACwALABYALQAiACIAFgADAO3/8f8AAAcAJgAPAAcACwD9/wMA5v/m//n/6v/m/97/3v/m/+L/5v/e/+3/CwAqAC0AEwD1/+L/z//D/7z/vP/q/wAAAAD5/+L/4v/e/97/1v/W//n//f/x/9r/1v/x//n//f/x//n/GgBEAFsAMQAmACoANQA5AB4ADwADAAsADwD9//H/6v/1/wMAAwD9/+b/8f/9//3/+f/W/9b/4v/t/+L/y/+s/5n/of+d/5n/mf+0/9P/4v/t/+r/9f8AABoAQQBBAC0AJgAeACYAJgAWAAcABwAeACoAKgAqAC0APQBfAF8ARAA9ADkAKgAHAPX/3v/H/9b/y//P/9r/3v/T/7j/1v/m//X/+f/1/wMA+f/9/+r/1v/q//H/8f/x//X/AAAiAEEANQAaABMAJgA1AB4AAADa/9r/BwAPAPn/3v/m//3/DwAPAAcADwAmAEQARAAtAA8AAwALAA8AHgAHAAAAGgAmADEAKgATAAAA/f8DAAsA+f/1//H//f8AANb/uP+s/7D/v//P/9P/5v/5/wAAAwADAB4AIgAeACIALQA9AEEALQAeACoAKgATAP3/+f/1/wMAIgAaABYABwAPACIADwAHAPX/6v/x/+r/5v/t//3/+f/x//3/+f/9/wAA/f/9/wAAAADt/9b/z//W/9P/1v/1/wcABwALAAcADwADAAMAAwDi/+3//f/1//H/4v/L/8f/5v/1/97/4v/9/xYAIgALAP3/8f/1/wAA/f/9//n/9f/9/wAABwD9//3/CwAiAEQAKgAWAA8AEwAxADUALQAWABYAHgAHAP3//f/5//3/CwAWAOr/v//W//H/9f/m/+L/6v/9/x4AGgAAAPH/8f8LABMABwD1/+b/7f/5/+r/y/+w/7z/z//a//X/7f/1/wsACwADAP3/AAD1//3/BwAAAAMADwAaABYADwAeACYAGgAqADEAHgAWABMAEwAiADkAPQBBAEwAKgALAAcAEwAtABYAHgAqABYAGgAmAB4ABwAPAB4AKgAaAAcAAwD5//3/AAD9/wMAAwAHAAMA/f/W/8P/vP+4/8P/sP+//7z/sP/D/8f/z//a/+3/9f/9/wAA5v/a//X//f/i/9b/v/+4/7z/uP+0/6H/rP+s/6j/v//e/97/5v/q/+r//f8HACIAPQBQAFgAVABIAFQAWAA9ADkAMQAqAAcA9f8AABYAHgADAAMAAADi/+r//f8aADEAKgAeAA8ADwD9//H//f/q//X/AAALAB4AEwAaAC0AOQAqAAsAGgA1ADkAHgAHACYAOQAxAB4AAADq/8//y//e/9b/z//a/9P/x//L/8v/sP+8/9r/7f/9/wAAAAALABoAFgATAA8ACwAPAA8ABwD1/+3//f8AAO3/z//D/7//vP/H/9b/7f/5//H/8f8HAB4AHgAqADUAQQBBACYAGgAPAAcAAAD9//n/7f/5/wsACwATABoAJgA1AD0ASABIAFQAUABUAFsAVABQADkALQAeAAcAAAD9/wAAAAADABYAIgAPAPn/9f/m/8//1v/T/8//5v/t/wMAFgAWAAsADwAHAPH/z/+h/6H/sP+4/7T/jv+G/6X/x//P/8v/uP/D/9r/4v/1/wMADwAaABoAEwAHAP3/8f/9/w8ACwD9/+3/4v/P/7j/v//i/wMAJgAqAC0ATABbAEwAJgATAAsACwAmACYAHgATABMAFgAHAPX//f8HAA8ADwAAAAsAGgAeACoAIgAiACIAIgAqAA8AAwADAAMAAwAAAAMA/f8DAAMAAwADAAAAFgAqACYAHgAPAPn/8f/q/+b/3v/P/+r/7f/1//3/3v/H/8v/x/+8/7j/v//e/97/5v/5/+b/6v/1/xMAKgAtAC0AOQA5ABoACwATABYADwAHAPn/4v/m//X/AwADAN7/3v/q/+r/7f/m//X/AAAAAPX/6v/H/6j/sP/H/9b/v/+0/8v/7f8AAAMAAwAHABoAHgAPAP3/8f/5//n/2v/W/+r//f8LAA8ACwAAABMAQQBIAEQAQQAtACoAMQAWAPX/5v/x/w8AHgAeACYALQA9ADkAEwAPABoAKgA5ADkATABBAC0AMQA1AB4ABwALAAMAAwAAAOr/7f/x//H/6v/1/wAA7f/x/+r/4v/a/9b/5v/i/+r/1v/L/+L/8f8DAAAAAwADAP3/AADx/+3/5v/e/9r/6v/9//3/CwAWABYABwDx/+r/6v/e/9b/3v/t//3/5v/W/+b/8f8DAAAACwAaABoAGgAHABMANQBEACoA/f/q/9r/uP/D/9r/8f8DAAsAAwDq/+r/9f8TABYADwAaABYAEwAWABoAEwADAAsADwAeADkAJgAeABoANQA1ABYAEwAHABYAHgATABMADwAaABoADwADAPX/5v/W/9P/w//D/97/5v/m//X/+f/q//H/3v/P/9P/y//e/+3//f8AAAMABwD9//3//f/x//X/9f/x/wMA9f/x//n/AAD5//H//f8LACYAJgAiABoADwATACYAUABQADUAMQAqABMAAwD1/wAAEwAPABoADwAAABoAEwAPABoACwADAAAACwAHAAAAHgAtADEAMQAeAA8AAAD1//n//f8TABoAEwAHAPX/6v/e/97/4v/q/+3/7f/e/+b/AAD9//X/1v+//7//x//L/8v/vP/D/9r/z//D/7T/pf+8/9P/1v/m//X/AAAHAAMAAwAPACIAGgAHAP3/7f/q/+3//f8DAAMAFgAWAAMA+f8AAAsABwATABoABwADAP3//f8PABYAFgALABoAHgAPAAcA/f/5//3/AAADAAAA9f/1//3/BwAPAA8ABwAHAAMADwAeACIADwDx//X/AwAWACoAQQBbAFAAOQAqADEAEwD1//n/9f/9/wAAAAAaACIAHgAPAAAA/f/m/+3/AAD9//n//f8PAA8AEwAHAO3/7f/q//H/AAALAAsA9f/t/9r/w/+4/7j/1v/x//X//f8DAA8AFgD9/+r/5v/x/wAA+f/5/wAAAwDt/+b/2v/L/8v/y//D/8f/2v/a/9r/4v/t//3/DwAPAAAA9f/x//3/BwAeACoAOQBBADEAHgALAAAAAAAHAAMA+f/i/9r/3v/a/9r/4v/m/+L/5v/q//n/AAD9//H/6v/T/+L/+f/q/+r/7f/1//3/AAAAAP3/7f/x/wcABwAqAEEAPQBIAEQARAA5ADEAMQAqAC0ALQAmABYAJgA5ACYADwALAB4AKgAqACYAIgAaABMAJgA1AB4AEwAaACoAHgATAA8ACwAWABYAEwADABYAGgAaACYABwADAP3/7f/t/+r/+f/x//n/9f/T/9P/1v/W/9P/z//P/9r/5v/1/wsABwD1//3/AwAPABMAAAAAAAcAAADt/+L/+f8AAN7/2v/i/8v/vP+0/8f/x//H/9P/4v/q/+L/7f/5/xYALQAmACYAIgAaAAsA+f/q/97/6v/9/wMAAAD5//n/BwADAPn//f/x/+L/6v/t//H/5v/e/97/6v/t//H/AwAAAAcACwAPABMADwAWAB4AJgAeAB4AJgAtACIAHgAxAD0ASABBADEAKgAiABYAJgAtACIAIgAeACYAIgAWABMABwAHAB4AMQAeABYADwADAPn/8f/9//3/AwAAAPX/AADt/+L/2v/a/+r/3v/T/9b/4v/a/9r/4v/a/9r/9f8AAO3/3v/L/8f/0//T/9b/x/+4/7//v//P/8v/z//W/9P/x//L/8v/y//T/9b/4v/x/wAAEwAeADEATABYAFAAMQAiAB4AHgAtADkANQAxAC0AGgAWABYAAwAAAAMABwAWAAsA/f/5/97/4v/W/8//2v/W/+3/6v/m//H//f8aADkASABEACYABwADAAMAAwAAAAAAAAD9/+b/3v/m/+r/9f8AAAcAAwADAPn/8f/5/w8ALQBIAFQAQQA9AD0AOQA9ADUAHgALAAsADwAPAAAA+f/5//H/9f8AAAMACwAWAAcA9f/i/+L/9f/9//3/BwAaAAsA+f/9/wAAAwADAA8AEwAHAAMADwAWABYAFgATAP3//f8AAOr/3v/a/9r/0//P/97/7f/1/+3/7f/q/9b/4v/x//n/AAD5/+b/2v/e//H/+f/1//n/7f/T/8v/4v/5//X/8f/1//X/9f/5/wAA/f8DAAcAAAAAAPX/+f/x//n/EwAWACoAJgAiACIADwADAAAA+f/1//H/9f/5//3/AAD9//3/AwATABoAJgBEAFgAXwBvAFsASAA9ABoAEwAHAPX/5v/W/8P/v//a/+3/8f/9/wcAAAAAAAcAAwAWABoAKgAmAA8ABwD1/wAAAwAAABYAJgAmABYAEwAaACIAFgADAAMA/f/t//H/7f/W/8//z//P/97/9f/5//3/9f/1//n/8f/i//X/AAD9/wAAAAD9/+b/2v/5/wcACwAWAA8AAAD9//n/6v/t//3/9f/m/97/5v/5/wcACwAaABoAHgAWACIAOQBEAD0AJgAPAPX/5v/x/wMA+f/t/+r/8f/t//H/AAD5/+r/3v/q//3/7f/e/+b/7f/q/+b/2v/W/+r/AAAeAC0AJgATAAMA/f/x//n/AAAAAAAAAAAAAP3/+f8LADEASABEADkAMQAtABYAAAD5/+r/5v/m/+r/+f/x/+b/8f8AAAsAGgAiABoADwADAAAA/f8AAAsABwD1/8v/0//t/+3/9f8AAAAAAAD1//X/9f/9/wMAAwAaABMAAAD9/+L/0//L/8f/v/+//9r/2v/T/9P/z//a/+b/+f8HAAMAAwD9//n/AAALABYAFgAHAAMAAwD9/wAAAAAHAAcA/f/9//n/BwAHAA8AIgALAAAAAAAAAAAAAAADAAsAEwALAAcAAwAWADEAPQBBADUAHgAHAPn/7f8DAAsADwAiACIAEwADAP3/BwALABMAIgAWAA8AAwAAAAMA+f/9/wAAGgA1AEQATAA1ACYAFgAqAEQAOQAmABMAAwAAAAMAAwADABYAKgA1ACoAEwAAAO3/0//H/8f/v//D/8P/uP+w/6H/hv+G/6X/w//i//n/AAD9/wAABwAWACYALQA5ACYABwD9//n/9f/x//X/9f/i/97/0//e//3/BwATABYAKgAtACYAFgAHAAcAAwD9//n//f8AAAAABwADAP3/9f/q/+r/3v/i/+b/5v/x/+3/4v/q//n/9f/m/9b/y/+4/8P/4v/1/wAABwALAAMACwAAAPH//f8HAB4ALQA1AEEAMQALAP3/AAD9/+3/6v/9/wcADwALAA8ABwAAAAMAEwAmACIAIgAWAAAABwAPABMAFgAPAA8AAwD9/wAADwAtADEAKgAqAB4AAwALAAsAAAD1/9r/6v8HAAcAAAD1//H/4v/W/97/+f/9/wAAAAADAP3/8f/m/97/6v/q//H/+f/m/9b/0//e/+r//f/9//3//f/t/97/7f8DAAMAFgAPAP3//f/5/wAA8f/i/9r/3v/i//H/AAD5//n//f/9//X/9f8DAAMACwAPAAMADwAeACYAJgAqAA8A7f/W/97/5v/q//n//f8HABMAEwAPABYAFgALABMAHgAqADEAJgAeAAcA+f/9//3/BwATAA8AAwAHAAMAAwAAAAAAGgAqAC0ANQA9AEgAOQAmACIAEwADAP3/AAAAAAAAAAD9/wAABwD1/+L/5v/q//n/AwALAAcAAAAAAO3/4v/W/8v/2v/t//n/AAD9/+L/1v/P/9r/6v/q/+r/0//a//H/+f/5/wMAAwD9/wcA+f/9/wAAAwAaABYACwAHAAAAAwAHAA8AFgATABYAGgAeADUAPQAeAAcAEwALABoAIgAHAA8A/f/5//3/9f8DAA8ADwAAAP3/AAAAAAMABwD9//n/7f/W/8//1v/W/+L/5v/t//H//f8PAAMA/f/5/9r/x//P/97/4v/t/+3/0//a/+r/3v/i/+L/5v/q//3/AAADABMAFgAaABMAFgAWABoAKgA5AD0AQQBUAEgALQAaABMAGgATAAsADwAPAAsACwADABYAHgAWAB4AFgAPAA8AEwAWAB4AKgAiAAsAAAADAAMA/f8DAAMA7f/q/9r/z//a/+b/7f/i/8//0//e/+L/4v/t//3/7f/a/9r/4v/a/9P/2v/a/+L/5v/m/+b/5v/9/wAACwATAAcA/f/m/+L//f/5//X/+f/1/+3/3v/t//X/5v/T/9b/3v/m//n//f/1//n/AwAHABYAHgATACYAQQBYAFAAPQAtAB4ACwD9//3/8f/q/+b/3v/W/+b//f8HAA8AEwAHAAcADwAHAAsABwD5/+r/7f8PACIAMQAxACIAFgATAA8AEwAaABMAEwAWABMAGgAaAB4ALQA1AC0ALQAaAAMA/f/x//H/+f/5/+3/6v/e/8//y//D/8f/3v/5//3/AAAAAN7/0//m//X/+f8DAP3//f/x/+L/2v/H/9b/8f/1/+3/8f/5//n/7f/1/wAAAAAHAAAA9f/a/9b/2v/T/+3//f8LAB4AFgAHAAcAGgAqAC0AKgAiACYAIgAeABYAGgAtAC0APQBIAEgARABBAEEALQAqADUAKgAeAA8AAwAHAAsACwADAAAA7f/a/+b/5v/e/97/2v/m/wcAAwADAAsAAAAAAAAAAADx//H//f/9/wsADwAWAB4AHgAPAAMACwATABYAHgAeABMA/f/e/+b/4v/W/9b/3v/1/+r/4v/x//3/AAD9/+b/y//L/8v/4v/q/+b/4v/T/7z/qP+s/6z/pf+l/8P/1v/m//3/7f/5/wMA/f8DAA8ALQA5AC0AJgAaAAAAAAATAB4AHgAeAB4AEwALABMABwD9//3//f8DAAMA/f/9//n/8f/1/wsAMQAtACoAKgAeABoAGgAeABMAFgAqACYALQAxADUAUABYAF8AZwBYAEgAKgAHAPn/1v/H/9r/1v/e/97/x//D/8v/z//L/8//1v/m//3/BwAHAAMAAwD9//3/AAAAAAcAAAAAAPn/7f/1//X/8f/m/9r/1v/P/8//0//q//H/9f/x/+3/0/+w/6z/tP/P/9r/3v/q/+b/6v/q/97/3v/q//n/AAAPABYAFgAWAAsABwATACIAJgA1AEEAQQBUAEgARAA5ABMAAAAAAAMAFgAxAEgAQQAtACIAEwALAAsAHgA1ACIACwAAAAAA/f8AAAAA/f8LAAsADwAHAAsAFgAHAP3/8f/t/+r/4v/e/+L/4v/t//3/9f/t/wMAAwD9/wAAAwD9/+3/1v/D/8P/v/+0/8P/0//W/8v/v//T/8//w//i/wAA/f/9//n/AwAPAA8AAwD9/wAA+f/9/xYAGgAaACoAJgAmACIADwADAPn/7f/t//H//f8DAAMABwAPAA8ACwALABoAFgAWAA8AAAAAAAAAAwAAAAAA/f8AAAMACwATABMACwALAAsAAwADAAsAEwAaAB4AIgAeACYAJgAtAC0ALQAmAAsABwAHAP3/6v/x//3/9f/x/+r/9f8HAAMABwALABMAIgATAAcACwALAAsACwAWAAMA8f8AAAAAAAAaAC0ALQAiACYANQAqABYACwAAAAcACwAHAAsAAwD9/wMA/f/m/8//w//T/9b/1v/t/wAA8f/T/9b/2v/T/8//4v/q/+3/9f/1/wcA/f/m/9r/x/+8/7j/tP+0/7D/tP/L/9b/z//T/9b/4v/x//3/AAAAAAMAAwD9//n/BwAWAB4AFgALAAsAAAALAAcAAAAHACYARABEADUAFgAeACYAGgAmADkAQQAxABYACwADAA8ADwADAAAA7f/5/wMAAAD9//X/+f/9/w8AIgAaABYAHgAWAAAABwADAP3/AAAAAAAAAwD5//H/AAD5//H/9f8LABoAIgAWAAsACwAPABMAFgAiACYAJgAiAB4AIgAiACoAJgAmAB4AAADx/+L/0//T/9r/2v/i/+3/5v/T/8P/w/+0/5n/mf+s/8P/w/+0/7T/uP+h/6H/w//H/7//z//T/9r/4v/x//3/AAD5/+3/8f/i/+3/AAD1//3/+f8DAPn/6v/q/+r/6v/m/+b/9f8HAA8AHgAqAC0ANQA9AFQAZwBrAGcASAAxAC0AFgALAAMAAAAAAAAACwAAAPX/CwAmAD0ARABEAEgARAA5ADkANQA1AFAAPQAtACIADwD9/+b/3v/e/+L/6v/m/+L/4v/i/+3/+f8DAAMAAwALABoAHgALAAAABwALAA8AEwALABMAEwAAAP3//f/t/+3/6v/m/+L/5v/e/9P/1v/e/9r/4v/x//H//f/5//X/AAD9//n/6v/a/9P/uP+4/8f/w//D/7//tP/D/9P/5v/x/97/w/+w/7T/uP+4/9P/4v/t/+3/7f/5/wAAAAAHAB4AHgAaACoALQBBAEwAPQBBAEEARABBAEQAPQAxAC0ANQBEAD0AMQAWAAsAEwAeAC0ALQAPAAcAAADx//X/9f/9//X/9f/5//H/AwAaACYAKgAmABYA/f/1//X//f8DAA8ADwAWABoACwADAPX/9f/x//X/AwADAAcABwAPABMAHgAqACIAGgAPAAcA/f/x/+3/9f/9/wAA8f/a/9P/z//a/+b/4v/5//3/6v/e/9b/6v/q//X/FgATAAAA6v/a/9r/4v/x//X/7f/m//H//f/5/wsAFgAHAAAA9f8AABoAHgAmADkAIgAPAA8AAwD5//X/7f/5//n/3v/a/+r//f8DABMACwAAAAcAAAALAAcAAwADAAAAAAAAAAAAAAD5//H/6v/x/+3/8f/5/wsAEwADAAsACwALAAMA+f/9/wMA9f/m/+r/8f/x//3//f/5//n/+f8AAOb/6v8AAAsADwAHAAsA9f/1/wsAAwDt//X/AAADABMAFgAWAAsA/f8AAPn/7f/x/+b/7f/e/9b/2v/q//n/5v/i/+r/7f/9/wAAFgAmAB4ADwAAAP3/+f/1//X//f8WACIAGgALAAAAAAD5/wMAEwAWABoACwDx/97/z//W/+3/8f/9/wsAFgAPAAcACwAHAAMAAwAWACIAIgA1ADEAIgAWAB4AJgAmACoAIgAiABYAAwATAC0AKgAqACIACwAAAAAAAAAAAAAA9f/5/wMAAwAWABoAEwALAPn/9f8AAP3/8f/1/wAABwADAAcADwAHAOr/6v/9/wAAAwAAAPn/7f/t/+L/3v/a/97/3v/i//X/AAATACIAIgATAAsACwADAAAA9f/q/97/z/+8/5H/ev9+/3r/d/96/37/gv9v/2f/a/9r/3P/Z/9g/2v/XP9r/37/nf+0/7D/v/+8/8f/3v/1/wcAEwA5AFAAWwBnAGcAegCZAMsA/AAbAS4BPgFJAVEBSQFRAWwBigGOAYYBlgGGAW8BYAFJAVUBdwGdAa0BnQGSAX8BWAE2ARsBBAHlAMcAsACCAFQAOQAeAAMA5v/H/6X/hv9g/y7/7f63/pH+ev5T/gf+tv19/Uf9Ef3j/KL8dPxK/CT8Efzq+9D7rft3+2z7aPtk+3/7kvul+8T73/sB/Dv8pvwV/Yz9Iv6k/i7/x/9yADYB+QHQApcDagQ5BQgG8gbMB5cISwnhCWcK3QpYC7wL4gvaC6kLWAv4CoUK+wk0CT8ISgdFBiYF8wPIApIBQQD8/qf9TvwI+8r5mPhx9032XPWk9OzzbvMO883yrvKu8uTyMPOU8w/0qPRc9Sf2+vbn9+T40vnH+qn7k/yI/XL+YP9BABABuAFCAsECGQNWA4gDxQPzAwIEKQQ8BDwERwRbBIUEpwT0BFAFlQX1BWsGCQfEB48IQwnhCXoKFwudC/0LSgxhDEoMIwzTCz0LawqFCXgIPgf8BboEUgPTAV8A6f5t/QX8qPpb+Sz4+vbL9bv03fMZ83Hy7vGL8Svx4vC48KXwxPAJ8VnxufE/8vfy0fPK9Nf13/YO+FP5sPos/KP9E/92AMgBHQN1BM4FDAcNCOAIkAkLCmcKjQqCCj0K0QlmCc0IHAhhB6EG2gUPBXUE5AN5AzQDCQMRAzsDkwP7A30EDwWcBS4GxAZNB7UHHAheCG0ITggCCIsH3gYPBjkFVwRHAycCFwHt/7P+cf1G/B/7F/pE+Zz4+/dK96L2+fVY9cf0X/QL9NHzp/N983XzcfOU88LzD/SR9A/1rPVs9iz3Bvjo+L/5sPqt+7L8q/16/lz/OQD1AKEBTgL6ApMDAgRLBIEEowSzBMYE1QThBPQEBwUTBSoFYwW3BToG6gaxB48IfQluClQLSgw/DRIOzQ5TD6gPrw92DwMPYg6LDXQMSQvoCVYIuAYPBUsDqQEtAKD+KP28+1D68Pi29572ivWN9K/z7/I/8r3xSvHE8IbwZPBg8IbwpfD98HzxBfKT8kfzKfQj9TP2Uvd1+JX5sPrb+w79Nf5g/3YAoQHIAsUDpwRuBTIGywY+B6IHyAfQB5YHIwedBu0FLQViBIgDngKxAeIATADt/8P/6v9IAPwA7gEgA4UE7QWHBwoJjQoIDGENgQ48D78P8Q/DD1APmw6TDUoM7Qp1CcgHCAZPBJoCAAGC/wf+k/wy+wD61fiq95L2YPU59CnzGfIQ8Tbwle8e787ujO6Y7r7uE++k71jwVfFW8ojz6fRN9r33Ofm4+hj8gf0A/3YA6gFaA6cExwXPBsgHnwhTCeQJKQoxChoKswkVCUoIWQdYBkgFFgQCAxACOgGNABMAAABBAMsAfwGPAtwDOQXHBl4IEgqhCwUNNA4iD7cP0g+kDxYPQw4oDccLRAqbCMcG5QTyAhMBXP+M/eP7WPrV+HH3HPb19Ozz9/L+8RDxJvBb78LuMO7B7XXtWu1l7XXtxe1P7vju1u/m8BnygfME9an2ZvgT+sT7df0m/+IAfAICBI0F5gYNCA4J+AmzCiYLdwudC34LIguwCg8KUwlxCE0HHwboBLoDrQLiAXMBYAF7AeoBvQLBAyYFsAZtCCYK5guuDRoPXBBGEdcR8hGeEfUQ9A+bDhENbwuUCY8HcgVaA00BY/+n/eP7MvqQ+Pb2ZPXZ84DyI/HS77ruuu3f7BDsc+sM67/qt+rl6kXr0+uW7Jvt1e5U8O7xffNB9Rj39/jx+uD82f6/AJYCRwTHBSMHaQifCbsKtAtkDNMMEQ3nDH8M/Qs5C0gKJQnAB0UGugQZA2gB7f/G/vv9p/2y/TX+Iv9bAO4B2AMTBnwIBAuIDcYPuRFHE18U+BTlFFcUSxPAEd0PvQ1kC/MIjgY0BOYBnf+M/Zb7zvlH+NT2fvUm9LbySvHp73Lu7+x76znqKelS6Ofnrueq5wbouuiv6QTrreyF7pLwvfIM9WH3xvkN/B7+KgAMAtwDjQUcB5MI2QnpCtcLqQxDDckNFQ4hDgoOpg0RDUYMKgvKCTAISQZTBFkCggAE/5j9i/zb+4P7xPtw/JD9TP9/AegDnQZ5CVEMFg+WEbIThhXjFnwXixcBF/kVhRSiEkwQsg3WCt8H8AQFAlz/2Px++lf4kvbH9BLzj/H875zuKO3u68Pqiemf6NDnEOeK5nDmseYc5/bnV+ni6rnsyu798Gbz0/VH+L/6Q/3H/wUCIQQjBtsHXgmzCtoL1wybDSUOag5xDkAO4A1ODT4M+Aq2CSgIXAaFBF0COQAl/hj8WPrg+Nj3GPfu9kP3LPi7+d/7q/6lAS0F5AixDI4QAxQkF6cZuBvyHGkdBh3bG/AZQhdIFAERnw0aCmQGsQJQ/w38JfnQ9rf06PIr8c7vde4g7cjrY+pA6Tvoaee15kLm4uWh5bjlEOb25jDo4ekJ7F7uDPH78wH36fn3/AsABgPhBXgI5Qr+DNkOehDMEdQSeRPGE6MTKBNwElER5Q9TDmgMNQrfB2cFzAILAFr9e/rF92f1IfMn8crvOe817/XvfPHN8xX3/fqZ/84EXwrODxcVCxpXHtAh+CMAJbMkPCOlICAdvhirE4EOOAn7A93+a/qp9pzzXfGR7yXuTu2m7A3sretR67/qD+pE6V7oh+fI5h/my+XL5RTmy+Yd6AvqOuy+7ovxevS99xD7RP5gAUcE6gZaCWALEQ2YDsoPvBBoEeoRLxJCEiASuREjET0QEg+mDQEMPQoVCIUFrQKw/4T8RPkn9kfz2/AT7yXuAu7R7rzwo/O596r8bAK2CDwPFBZwHCgi4yZnKnws2CzAKxYpKiUEINUZChP1C+wEKf7n94Dyze3w6Tvnc+Wg5GPknOQP5Y3lMua45jfnj+fj5wroEehH6G3o9+in6YbqDewO7lHwAvMI9kD5dPyK/6YCdgUCCD0KGAyTDYQOHg9EDxYPwg44DqYNLA2aDAgMZwvaClcKnAmTCP0GCwWeAvX/Ff2o+Tr26/Ll72nt0+t76w3sIe6m8bn2Ef33A9oLPBS9HLAkeyvyMAA1HTf+NrQ0YDBzKuAiGhqVEBgH3f0m9YjtEOc74tne09wy3JbcAt4T4G3iu+TL5rLoOeo+68Dr+ev268DrrevE6yDsBu2j7rzwXvN/9uH5Zv0EAacE+gfhCjMNBw9BENoQ6hB+EJwPQw7TDEUL0QmACEoHYAaoBSYFiQSuA9ACsQFEAE/+2/vg+Ib1LPK+7rjrhemE6LboVOrJ7b3yhfmxAfgKPRV6H9IpDjPIOotA+EMrRSlDiT51N1AuUyPbFhYKbf1/8cvmst2h1sTRBs8ozgbPhtEH1XHZGd6m4hjnzurg7QDwM/HE8dfxufFV8QzxVfEg8nnzKvU/90H6jP0QAacE8gftCmUNdg+dEB8RDBFcECkPfA3aCy0KnwhGBzYGggUDBb4EfQQOBGIDPgKVAHb+sfti+GP0NvDy6xnoQeU4417jUOWU6QTwYvjyAqcOHBwaKbU1KEFCSjRRG1TpUyRQzkiCPhEx3yGOEUEB3/F940bXuc3xxkLDGMKmw1XHmsw30wfa7eA+58HsHPEp9Eb20Pai9p31FvTR8lXxrfCh8JPxR/Nz9af4EfwHAL0DPgd+Cg0NSA9gEMsQkRDxD/8ObQ3mC3YKMAksCDoHrQZJBhsG/AUxBTQEgwImACj9A/lj9CrvKuoH5aXgot0n3GXdguBc5hPvivrUB1wWGCYjNYVDf09yWABeFF/FWwRUoEi7OVcomRVhAgDwW98M0eXFhL7ous260L3gw+nL/9Rx3nDnu++D9qX7s/7e/2f/kP0v+4T35PMc8Qvv++2f7Zjux/Ai9Nj3kvtv/1ID+QaFCWsLyAyyDf4Nmw32DD4MsAs5C7sKPQomCjUKHgqrCRUJIAiCBjQE0gDF/LL3GfIv7FXm4uAM3CHZvdc42XjdlOTO7vn6vgmQGWsqljo9SetV7l5CZH9kMGDsVp1JwjgAJR8Q9fry5uzUHsY9u9i0uLK2tIG6M8MVzjHaoebj8cj7eQO6CPwKego3CCEEQf9E+TDz2O2g6anmyuTd5Irm4emj7czxxPb++wwBDwV4CIIL0A1XDyoQ/RDfEZcSKBNtE7IT2RN5E4QSyxBXDioLLwf5AcT7QfVP7vLmq99L2QvVEdOW0jDUhdnn4rru2/uwCiAc2i6ZPyVNWFhxYU9mxGSoXelSTUX0M/we0QiQ86jgE9AIwgW45rJGs/G3sr/RyQTWHuTj8W39ygWiDAkSdhTvEr0NGQhKArH7PPPO6ibluOHK37bdj91F4OXk/Okh7vPyuvge/2IE9gcbC8kO4xIfFqIXjBiCGnQcaR0BHPQZMBgjFnQS3gv4BC3+Cvgm8ErnC9+i2GLU2c/PzJLMtNHC2RPlufHOAK8UFimIPPpLxFrwZrVvn3Cxacxf/lD5PqkmcAw482nd78kMuC6sMabHp5at3ra1w3XUg+dA+dwIUBXSH+sm8CjAJaseNhYUDIL/WfEx5JjantIfzIPHjcY4yinPoNWp3CPm8vCo+pcDDwswE90Zxh58Ie8i/yPOI+AiUB+tG7EXyRNmDngHmgGa+8z2BPAA6hbkTN/P273XRdYd1JnVFdl34PfohPKaARETnyfkN41IJ1m/aMZxlHFgbjRmUVojRN0prw6C9NLaKsGDrVOgvpsSnMCj5bCLw3HZe/CPB6EaoSrINU89Ej0NNw0sOB5aDpL7E+rg2H7LW8CAuW62oLY1u2DCh83k2CLlM/F9/iILrxSPHLIiuihJK/EqYigBJmEiuRwQFmMP8AkCBF/+NPiZ9Anxhe6h60TpGegX5kzlKOOQ44fibeMa5V/pPfBx914DARF1IwcziUOGU7NiHm02boVsdGRbWGVBTSYeCtXun9PAt4+kc5jolemXRaL3tKbN2Oi5Ar0cPzL/Qr1L1k0HSFU71im3FIz9A+XsziO9p7Copjqjt6b/ryq8bcn/2U7sU/7mCyEY6yJ0K7wvYy/GLe4qECYpHk0WjA5CB+r/PPn78zrwsu187Evtze1B7+bwwvNF9YL0PPMs8r3xuu756kjpwexR8cP1S/3dCmIdzS1lPBVLqlsLZzJpH2TvWlhOADk0HW//QeXLzBq2P6ULndeeB6citi3KBuMw/RAW8iumO1lFn0dNRBM5HCeOEe77Aeft0BG+C7FBrHmqc6w/tFjBN9Lt4KXwJgCvD00b6yJQKXEs7C3eKu4mtSEbG14TUAv/BC3+jPi+86nxuPA68BzxzfMZ+PX6av1EAKYCGAKN/lj6nvaW8d3pbeJn4ODi+eWa63j3OQuWIMIye0T8VxhpKHBFbd9klVgURXEoeAgE6yPRgLkXpxieXZ9dqYy5984V6OIB3RlXLlI8+0HUQNo5Ai1YGkcD3+xQ2qfJublOrkirsa6jtcu8+cbA15Tp9va8AQIOjRq3JEcoNSlgK10rcCZIHvUVDQ26BIb6L/HL6sDmhuUr503ruPCz+aICswqVEFMTbhSAEuoLnQAX9QDqON7f0inKEcgozrTWdOKl9RsQmyy7Q0BXAWpLehB+AnVeZiNUDj0NHXv6/t3cyOG2aaq0pzSvfL4b0e7mev5gFb0nnjViPQM90DYvLIEexAzV+M/lptdszDXB37jStp+5+r0ZxAPKrNUe5CPwePyXCDIW9yKTLJowAzPOM5guliUDGbcK3f1O8Wbk29zN2erbK+L86sT2+wM7Ekkb5yEpIxAgGhkYDDP8Eum22VDLgsHYucC3hcCjz2HihfOPDFspL0UaV3VhWG2HdMJwpV5aS0s48yK0BiXpq9TxxoK80bTRtV2+Dc3y3JTu7QBGEYkfFyqaMC4vpSqMI4UZswrJ94jozto+zeS+zrW9s6qzS7Uau+zJV9rJ6Af52A2eIUQuLzZAPT1DHEDWNO8nixyfDfr7QuzM4Urd3dpG3YbllvED/uoL8Bj3IjAotifOI60bTw50/ALt/tzNzkbD7rwMvaa+4cWl0b/l6/bTBhgcQDNBScpSkFubZURsU2ejVnZIqzgDJOcHkuta2P7I/Lums4S0xb60zDzfEvOSB/0a4SmtNew46TSSK5EfrA9++vzkN9LNxIK3Ta32qZmsCbOTuU3HTtjc6M33ywZpHEEqQjHfNbE7fEH/NxAr/B79FdUJE/Xn53vh5uDH4C/hqeuN+XQHxhOPHNMlRyjiJeUefxGTA0ryceNu1Q3I8L/fvbvAZsUaymPVO+g8+FgFYBAwJ9U9TUotUuZZXWk0a8lgGVGXQTwy0xYe+Q7fOsyQv4W1abTKu7vKr9+C9bQLpB4xLjk5fDw/N9cq5hpuCbD0zN34yry8zLPJqp2nbK3FtMS9hsaY2aPte/tPCdkZCDBcOfY7zj51QVw/9C4OHkwPpQE68Qjhp9lD2EPd7eRN8DUABw8oHa4ngCyiK+EkEBsgDWH8TOr82kHRnsdzwWrAo8Tly9rQndaA4tzyW/54B+MXnjDbRa5RB12JbKN1+m8JYPtMkDcfGx754dl8w1a0kazQrlu7884N550ByxoDLk06GEDePuo1RCTlD/367+fg003ChrecsH+tLav7r9q2Zb4RyF/V4uoi+XsHuxlGMBlBgUIQRdpENELrMV8a3Agw+AzrXdzN1GjWpt2n6fr2kgagFGEhVCr7LcAqwiPVGYsMs/5t7cPgG9aPzY3GJsEywgfFRcf7yVvQM90d7kn7gwxLI9hBcFr7ZrFzt3z/fxVwFVYyOlIcDv5w3KLC0LOnrzu0UMED1QnsPAQnG0MtFDbVOCs1jC1oIFoOIPy76drbO80ewF+2pq7sqpqolq2is3u8+8kZ3qf41wsPH4cx5kRkT+VNZkcNPJIwBh0lCX71lua23bLYedlW3VnnhfO9A+YQWBrrIjUpWSv3J2MfIhW2CYL6K+ws3SDS+sc8wKW8SbwlwI/DsMsc1w3idvSpB98XQyy9Qb5bSWl3bq1zgXFGaYdPYzSnGIH+4uYUzUXBwb6qwxPQu9/o8yAIdhlPKLMuHi8uKrAgJxacBRr0LOMb1vzK7ryPsxyuJqwfrVCxSrnKxYnVY+ocAloT/CQyNCNFRkqJQnM6RjBNJmMQ4PwP79PmXeJT3ijiRetR9iwDQhFCHNIkiCi/Lj8tYSY0HZEQxwY99ULmUddBy+/DD7tSuYy6dL5Vx5fOv9qx5xj2nQtiGeoq0T0PU99kZ2eEa0Jp5GEBT4QxiBhj/z7rXdcByOrHvc1m2X3ovff/CcgW5iBVJn0jpx3BErYIU/2q7AXdC9BCyD+/cbTvr8Wv2bU5vMzCWNGs4AD1mwgyFUcjICytNUo7+TT5KpMhQRvmEO4BPfRp7T/tZOuJ6o7wePeJBHMQxRiBI6MnAi1ILhUovh1NERAC3PIo4iDShsaOvbu7ubkOwAvGE9An3NXjS/M4/a0Mth11KPE5AkxvXdBlAWRRZN5dek1rNJsYYgPS73fgZNYZ09nZGOI57wf+Oge4ELgVWBpFGuAS0AzkA0n7C+964GXTSceivbGzaa6Trga1+r3kyabXyulk+60HQxOFGTQiYCVOJ6ElqSCvHgAawxUcDGID3/ti+HD2oPQY9ur79QUbENkYUB92JBYkWyOwGvQPPgLh9Jjp29yg1FjLKcpRxynKFM0f0dvXv9/g6GHxJ/vrA4cX2SPfMDc7JEvyWZ5aslbLTkZKQTrEJkISwQLR+Kvuj+e/5abnPuz785z50gAiBcMKug55DmsKUQK7+aTv3ONk1gfLxcSowUzAwcMJyDTP7dU43szno+3D9Ev9ZAf9ED8YtSEyKsQrHyoIJYQijBhvCwECwPsc/Lf58vt/AYAI2g/8FAYY9hcAFQ4T1g+BCUoChflf9NvriOOg2vnRoM9ryzLMss7g01zbAuMQ7Bb0ZPv1AZUP9xiTIl4t8D1BTsJRa1MhUeZPqkG2LM4ZbgmN/ufxWOoC6A/qp+0S9G75Vv38/rsA6APjAqv+2Pdq8wLub+UI3ETU3c/1y0/JdsrOyvnME9A61q3c4OIx76j6CQg7ErcfEyoCMi0zry2CKrEhXRzaDyYGggBb/r//ev7T/x4AVAYSCe4LxAx8DRMQ4Q+nDhMGogKR+R70D+px3b/avdNB1nvR39KV1vXbK+d/5i3uaPFj/3cRAxr/KEU08EcGVmVaUVmTUN5JmD2BLc4ZYQcO/Vf0Au0G6H3kI+ZY6wDwtPWf+Oj96ANMBXACfvoX9TTuRebE3B/WcNIOz2nOF8tOyIDINctEz8jSBNz07ir/YQzjF3QmizHwMw8vFSh1I4McRRVVDBkDr/5M/gr9aPvJ9wT6AAEBB+AIPw10EsAWjRqzFLwQSgfK/n71W+nw3r/V69LszvTPRdFM1f7YUN+O5jrsjPIF98MLcxqoKVw6dkgVW0RcJl7wVxlMYjwxKQ0cDwuE/I/yf+xa6MPl6eQ96jDu6vAd+Dj9NwJOAkkBz//x+qX11e1h52Pg/th803/MkcbjwhfBDsURyfLR+uFk8ML+iAlKFwojXCr6K/gpdyrnJ6Elrh3wFE4NoQZ3AVz6fvRx8rj1z/qGAEQFyQ5bFLsafxs3F5EUkwjiAX71HurG3+rWoNQm0ZXQgc9q1FTWN9gV3ePileqg79b/VxSyJ3s160ULWD5fNl6rV1ZRRURBNFwlvRf0CQH81PF26ULiudwY3G/gqeav7lr4rQHUBx4KTghPBET+1/XT677jG9x51ATM78MbwWS9l77KwNHJddNj5Lr40QRCEmkdNjCQN6k1rzO9Npo1dyvzHXARjAhP/bD0uewf60XqxPGw+kEA9Qa8C7gVjxfPFggRUg1YCy3+qfuq7BDmYuMI17fak80nzPbN1M1T1LHX3+FN8BMFXRc4Ldw8vUt5VmZc214uWc9PnEK+OBsqpxnbBwz2y+q84K/ZDNei2HPhxum68ln7hgD4BHcGYwUwA0z+evkt9FzrSeH11aTLwMIVvtm6Y7tQwSHJoti/5PDu5P0uC9wdeyvSM3s6zDsNPFI3GCxSHQwRdQm7AEf44vDg7SbwkvB79Wj7XQKVC+cScBb2F+wT2hBxCXsBZPp78LHrZOG022zSkctjyw3Jp8rdz3rVwuMy6xH8Dg4yGww1vkLMVRpXu13SYgtdaVEIP7o32SgdGKoD7fQ86RvgxtlD2RvbBOD56q3xRvf8+R7+mwMBAub/ufz39xXysec53//U2ss0xKu/Y8EewKjBesZE0HPmoO+E/HkOsSGNNE8yBDRRNYc2by+9JyYffRhOElEHTACC9AHx3u9o9i/3Z/qeAvsIzQ6uCEUL9gyiDZMIOgGF/vj0Qe+u4kDZqdEGztnPNsy2zsLPgdkX2w/gu+8//Hoa0i4jRGtO71ZAZ85nJmJ5Uc5NcEUpOAMkQw53ASjysea822TW+dYE3Hfg1uAC49XpZfHp9An30PsPANIAfvrB8t7qXuM52xfRLMmiyIDJgcUXx8/MHd5u7pjzBwXVEwYi9Cl+Ka4xazRSN2Q1YC/SJA8aLxHvAyL6l/Ix9Fb3Rva49dT3P/zy+738Nf4pBM0IPQbvAlr8xffN8rDq8+Pg3iLbIdmn1HvRi82s0J7Sotxs6z3/fBw4KLA06T7zUZVdVlveWItaEFobTw8+/iuQHvcOJwHn8SHp5+KR3y7bKdXc00/ZKd8V41zmPuxy9MD1tvNZ8cruN+0a6jrh3dq+1JPSv9DSy3jNIto54L3n8O6O+38MCRLuG4UjYSwBMaszFDBxLCAngCLbGyETWg7TC+EJJwFT/b/5Z/pa+N/2s/gY+yX+ovzt+lr34/bR82LupOqS5kXlr99C3DXa8dY21l7UmdW63ljr/ABIDzkVxyB3MMlGu0jiSblQ7VjMWslQbkeJPRM0USapFnQHoP6i9x7veeOl2+TZ6doG2ezUi9ef3VXh2+G84Z3lYuhE5Drhn91W3s3erNrz2KzWV9/H5RnjBOY87hv/AwW8BnIPpxjvInMlXCWSJTom2CecJEAemhyGGpcYARH6B60GcAIHAK/4QvYs+IX4gfnO9E31s/R69JrxWey36onqvefY4pLcAdys20Ta9NlH2NPhh/HYCKYH3gb9FaMt0DufMo05ckLsTF1KfEFSPFc4LjWzKQgbwBEHD2oJ2f468U/uw+9p7dnkoN9w4THkPOSz3+zeFt974RThXNv42t7bpdyb2F/Vztob21XctOC36abyyfe7AEUGMgsfEFwVOBm7GSwdjiB8ISshpB4NHTobohdyFCMRqw68C0AJgweCBT0FUQbTBrAF9gJOAt4AafyQ+A7zG/Bo7PXlg+E523zYktam06bT+NXq3IDiQuZl7EL2ywHAC5QUcBxgJb4tITI4Mw805TPVMgwwdyvnJ6sjIyHrHHMWFRNvEHwNMAkTBdgCIwEi/on5UPUg8sbu7Omc5Bfg4N302jrXHNNU0K3Rm9Pu1rbZvd1t4rTlgOgz7KbxZfey/AQBVAX2BzkL4wyPDNAMVw5JEBsQlA5XDmcPfg9jEA0SbxVHGGkYJxYRE/UQzQ4fDL0IWAZxA93+Ifg28EXrg+Y448/h/eEm5aHmu+my7cXypfrbAnMLChMhGfweciNBJTMmFSg5KUon5SO3H2wclxh6FSETvw+IDa8JBAa0AWP+mP3j+0n6L/ec9OvxhO046V/l3+Ex39PcFtra1n3U69Md1N7Vadgn3JjfdeO154rrgu/o86T5Y/4RA+oGEgraC8AMFg+lEPoRPBOYFKEWJBgpGfAZ/RrfHIAd5hu3GXwXyhRJEdwNvwpNBp0Bufxa95Pyge5/7FXrt+rM7AzwFvOP9ln7OgFJBvwKHxG4FSUZ7hvFHKocOhvsGTcXQxNUEKYN3QluBfIBYP8G/S76BvjX9XL0V/Rq86Lx1u/l7kvtNuvc6BTntOWJ5E/kpuIf4Svh5uER4lniY+Tn52/qzOzu8CP1w/lm/VUBGgW5B28LMA7KD00RVhO7FYcW6ha5F+wYiRlfGdkYgxe1FqEVthMiEOoM/Ar+B1IDV/7P+hj37/KZ72buLe517s7vrfGN9EP4n/2WAsAGwAu8EToWuRdmGX8b0ByHHNIayRj6FpEUaBGtDF4I3gVSA0EALPwH+aL2wvMr8Xbv0e3E7BjsOut56Zfnh+Z+5aTkCuQW5DHkU+Qx5IXkReUN5wPpQesw7lnx1vTr95L7q/64ARMFNAmHDHEO4hBqEzIV4hVlFwMZfRn/GGYYeBfDFUgUWRLpD4QNrApKB7oDpf/f+wb4Z/Qr8WLuce267SnulO7L8FD0AviL++r//wQmCvgPIhXZGJob0R0WH2Iemhw2GykZkhYsE40PjgtCB9gDrACj/Z36OPid9WLzg/He78ruvu3k7cntBu1k677p4Oiu51zma+V65cPlrOVz5VXm9uez6cvrB++u8jr25flP/SMBswR1CBgM5A6DEW4UxBa2GMIZXxouG0EbKhvlGSEYaBaRFEYS7A7PC+gIGwZRAuD97fkU9lbyR+6k6nzniuUq5ZnlF+bc52/rv+8m9Lr4hf4WBIwJAw9EFKsYShywH4chliE2IHkeJxuaFwcV4xEsDmMKBQcdA3r/afx6+cD2LvVj9LryhvA177futu1s7NfriutU6mbpeeh45xTnaedH6EvoS+mD6+jtCPAz8lD1r/iA/CoAmwPABoIKQA4IEdQSsxTqFo8XuReXF7EX0BeqF+YWMhWEE44Rtg53CwYJjgbUA3IArvxu+Bb0G/Bz6zPnT+TB4ivhJuCG4LLiDOaN6hPwsPVh/E4DgQmfDvsTRBltHXsgDiPaJH4kHSOHIXof/hx+GqoXgRRGEWIOCwtwB5QE9QFB/1r8ifma9kD0CfK07+/sLuoV6LTl+uJ34LbeZd3M3LXcCd3J3ZjfK+Kz5FLnqOoq7+TzhfgV/YMBwwXNCSgN5Q90EqsUYBaTF8IYnBnOGa8ZahnkGMwXGxZTFFkSTBASDioLCQiUBI0A0/u59prx4+zk6H7ll+LL4ObgGOL742nnaOwk8vv37P0GBJwJPA8mFewZSx3pHxEiwSLbIVwg2R4JHQQbwhisFVYSfg/jDNkJ3gZHBDcC3v/+/Bv6Svfh9E7yie/U7JnqbejS5XHjSeGF30Peot1h3a7dFt8b4TTjpOX/6CjtnvEQ9qj6Iv+QAw0IoQtXDgQR6BM2FqoX1Ri7GSIaRRrwGRIZDRjyFoIVrxOLEWcPDQ0iCpkGLwKY/fv4NfRY76Dqg+bn4qjfj93+3NjdNeBe44/n/uxE88b5PQBrBnsMwRI0GEoc/x4FIZcisiKmIVwgQR8hHlUcExqmF5kVoxNREasOAQyrCfkGHQSsAP78s/mW9kDzie9V7HLpd+ar4zbhOd+E3V3cSdy13D/dp94U4dnjBeeg6lfuO/JV9oL6QP7iAb8FZgmpDKAPVhLwFP0WgBiYGSYaghqkGkgajRmMGCQXVBW9En4PLwzBCNEEQQCO++f2IPId7WnoSOTa4G3e7twv3Ivcdd424YXkquj37TH0OfoPAA8GvAv5ENYVuxkCHfwfPyKBI7cjoCNLI04iASGZH5MdoRuzGcwWQxOkDwgM7geTAy7/z/qi9njyYu7H6hXo6eUO5DPivOD03yLfiN6Y3nbf1uCH4q/kM+f46TftuPA59ED4ZfwWAJ8DxwbwCREN2g+LEjIVyBf0GXcbXRz2HN8cJxwjG30ZZRfpFCQS/w5BC0oHVgMq/7T6ZPaM8tHuOuvc5w/lnuJv4Ojevd1p3VPeWODY4gzmeuqk79b0NvpfAEEG2gs2ERsWXxrvHXwhPST5JVonXiiMKPMn9iYuJa4i0h94HG0Y/xOVD5kKBwWl/1T60vSo70XrXeer43fgJd4M3I3aItoL2n7ae9v63IHeE+A34sLkj+dc6pvtIPHe9M34yfzWAOUETwmPDSMRehSTFw8aJxzRHewe2h+pIMAgvx8pHlIc9BnAFm0T+A+lCzYHvQLo/UD5F/Ur8WLtpOlF5lbjx+DZ3mHdXdwB3Hvcvd3h36biaOYj6z3ww/WD+88BFQjJDU8T1RhiHQEhSCR0JtAnZiiQKA4ouSZFJVcjeyCXHcsaUheBE2cPJguwBkoC7P1f+Un1lvH77X7qcOcT5RHjbOFz4EHgd+Di4MDhsuLV47Dl+udB6rXsyu/r8vX1Hvk7/I7/7wImBgYJlQsSDnoQYRKjE9IU1hVzFpYWABbZFLITFBKvDywNegqHB1sE5QA4/aj5j/aM84Lw6O2h65jpsedF5oLlReWN5fbmW+lk6//tg/Fc9S35Xv0gAooGzgolD3UTrRaJGaIcFh9/IDchzCGPIZ0gQR+bHUEbwhgUFrIS8A4AC00HaQOo/wn8avjO9Knx3e4g7NLp5+eH5p3lGuX45A/lmeVw5lnndegm6ifsBu4q8KPyYPVP+E37OP4IAQ4EDAe+CRAM/g0IEJ4ReBJeExYUahQ1FKcTohL5EEwPaQ1gCxkJmQYZBC4BA/7x+jD48fXh87Xx3u9A7sjsnev16qjqtOoy6+LrTu1f7xHyYPXo+ND8zgDOBLoIeAxgEG4UrhfpGaUbBh0GHjEe4B0oHe4bnRrsGLEWbhQREjwPNgzNCFAFBQKk/lX7Gfjt9BzyX+/E7Kzq7+i157zmMuYr5lnmz+ae53XoYum76lHsGe4I8HjyAPWA9z364/yh/2gCwgQ6B58JRQvIDMUNVw7GDsIOXg7vDSwN+QukCiwJ3wedBlsF4AMjAlAAcv61/BT7avnz96n2a/V29HHzwfKy8tHyLfPV89L0Ovbk9935+vtf/jYBBgTLBk8J8QuQDrwQyRK/FE0WWRckGIQYYhiqF7wWnRU4FJ4SnRBiDgUMcQnLBvcDGwGN/u77cvlD9/j06/Jd8Q/wyu6u7RHtf+zm66Xrqevu66bskO2F7onv2/CP8pH0ufa6+O36Gf0i/yoB8gKcBCoGRgccCIAIjwimCGUI5wdhB9sGXAawBRMFpwTkA8QCyAGRADX/8P3J/Mj7gvo1+SX4SveD9gH22vXx9WT2FffN95z4mPmC+o770Pwx/tP/XAH6AgcFEAcpCWsLTg0tD9YQWRKfE2YUHhU9FfwUmBSYE3QSKxFqD20NLgvoCM8GnARoAnIAX/4z/A/60PfX9ZX0tvP78rLyn/J88ozy1PIw85TzIvTH9IL1YfYR9+v3yviF+U36L/so/AL9Gv45/yYAwwAyAaUB+QFOAi8CFAIFApIBAAGGACoA9f/P/37/B/+r/oX+Nf4x/hr+q/1t/SH9Cv3j/Mn8yfxp/F38cPxS/If88/yU/Vv+F//m/7sAlgF0ApsDowSFBbQG7gcVCR4KCAvmC4cMuQzuDAkNtQwUDFQLqAqQCXwIUQcPBugEyQPvAtcBxwALAHP/t/4D/lr9ePzM+z77rPoy+uX5u/ly+ej4xvgD+Q75TPnl+UH6mfob+3f71/vu+/77RvxG/Fr8Yfwc/LX7dPuH+3/7i/vn+0b8ovwK/ZD9Gv6J/hf/mf8AAHoA7QAnAScB/ADHAH4ALQAAAAMA6v/T/+3/uP/1/1QAnQAEAYYBLwKLAvoCSwObA+8DOASzBCoFVAVyBYUFcgVuBUwFVAVuBWcFMQX8BJgERwReBE8ERAQhBO8D3AOTAzsD/gKaAgkCpQEyAbQAAABj/87+Dv6B/SX9Bv3n/NT8wfyu/ND8+vwO/ev8svym/Hz8HPyi+xD7c/ra+V/53fhL+Ov3rvd894j35Pch+E/4nPjg+F/5E/rx+vr7KP1A/tn+iv85AOkArQFGAg0DtgMlBG4EoATRBLcEqwSvBL4E/AT8BNUExgTCBLMEgQRHBOQDZQMGA8ECkwJdAi8C9QHEAaUBfwFVAToBTQFFAVUBigGKAZoBmgGdAQECZQKtAg0DKANSA80DKQR1BLoEGgWVBbAFpAXaBaAFNQUWBfAEqwQWBF4DjwKaAZkAvP/p/uj9nvxZ+0H6Dvnv99f2tPWC9ETzafLQ8VXxCfEQ8VHxlvEZ8uDynPOR9Nr1HPd5+PT5dPuu/AP+Z/+ZAPkB/gLvAxMF+AXHBn8HHAiMCL0I6AjvCNEIyQiECD8IDQipBwUHXAaCBTwEOwNoAoYBxwAxAJX/xv5I/in+2f1W/W394P3g/Qv+nP4b/0z/pf8eAD0AggAnAXcBoQEQAlECrQK6A84ERAVbBfwFfwbiBtQHdQi2CCgIbAeeBxkI0AelBm4FxQMgA3UDLwJEAHP//vx6+dn+pgLv907xnPmX/O7xI/Eg907yHe3R7jnvBu2S8E3wGuru6wLyn/NH81j1gvVa9yn+AwAt/k0BtAb1BqUGxglJC/ULBQ0VDeYLngxeDpoMIgqUCfgJnwhgBhMGhQXUA5oCfwKWAeb/AwC3AJEAF/99/nf/QQBIAGD/Hv8e/0H/XP/w/j3/2v8mALD/Iv/e/4oB7gEyAZIBTgOrBHUExgRBBu4Ggga4BmwHqQfEBwkHzgX/BJAE5AN4AgQBnf+c/sL9Svy/+t35Fvm59zP2v/QP9KvzRPOj8tDx1/EF8uvxk/H+8YjzhfT89IL1JPdy+eb6i/tw/Lv+CAEYAmgClwNIBfwFmQbuBkIHgwdKB0IHDAf5BpkGOgbHBS0F/wTKBJwEOAR5AwkDIAM7AxUD1AK5AgUCnQFwAqYCHAL5AUICqQFVAScCDAKKAToBdwGdAeIBeAJ8ArUC8gISBOwElARiBNkE2gW3BfgEvgThBCIFdQTrAnAC1AIrAssAnf/O/kD+kP3U/PL74vp7+nP6C/oa+W74Q/i99wH3Qvbm9fn19fWl9Wf1vPX99RD2tfb392P5WPra+nv7xfwi/on+Kv/x//3/ggA2AT4B6QBVAakBUQFRAWwBkgH5AYcCxALrAnEDzQPJAzwEvgTVBP8EYwU9BfQEEwW3BCEEowPUA3UD0AIoA+cCYQJCAsECtQIYAv0BHAJoAjcCqQFoAdMBEAKhAR8BlQD8AIMB4gAAAEgAUQEyAUQA7f96AD4BYAETAfUAYAEJArEBNgFNATYBEwGsAI0AXwCV//j+7f67/qv98/ym/Dv8qftJ++36TfpJ+jL6+Pn8+Tb6UPpQ+sv63vqO+v36I/ud+u368vtl/Nv7ufuA/Fr9ef2f/VP+1v5M/4b/8f9rAN4ANgE+AQECuQIZA3UDmwNtA1ID/wMhBMkDPwPbAusCIAOAAzsDeQNxA/4C/gJtA1IDogIVAzADxAJ/AmUCLwIUAvIBHwHeAG8B7QCV/7//PQDL/yL/Rf9n/0z/v//m/wcAbwAEAT4BJwFYAYMBdwEQAbcAbwB2AHYAvP9g/3f/VP+z/iL+4P2Y/Tj9Gf3r/Kr87/zj/FL8/vsv/Cj8zPvj+zf8Dfyx+8D79vux+1372/sF/Kn79vu5/A79Cv3Z/cr+2f6C/3oA/ACKARgCsQI/A/8DTwRTBMYEZwWFBXIFpAWNBXYFCwWQBIEEqwSYBMUDSwMsA9QCMwKpAXsBQQEQAfUAxwA9AL//hv9U/wT/r/7W/gD/v/6c/vj+Kv8i/2P/b/8m/3P/AwAtAFAAuwDtANYAKgFYAWwBxAHLAaUBywEgAsgBDAHWAB8BMgEjAb8AJgDL/2f/1v5I/jj+A/5q/dD8Wvye+8v6pfqd+hv6kfmF+Zj5mPmg+cr5Lvqd+jr76vu1/ML9t/5U//n/jQDpAFUBHALBAtsCHQNiA4gDkwOXA8kD2APoA/8DDgTgA3kDXgNeAxkDGQMdA8wCbAIBAqkBfwGKAUkB4gBfAMP/TP8e/0X/xv5T/pj+u/6Y/pT+if6c/s7+4f7G/s7+Of93/4L/hv/H/xMAFgALACIAdgDaACoBIwEAAUUBkgGaAX8BSQFoAT4BsAByAEwAIgD9/+r/kf9j/0X/xv6z/pT+ff5P/kT+Zv70/br9tv15/Tz9LP0w/SX9Yv2v/bL99P2J/t3+D/9U/8//OQCCAOkADAETARMBFwFoAbwB+QHuAdsB8gHyAeYB/QE6Al0CdAJwAkIC9QEBAgUCrQFgAQwB5QDeAOIAlQATAP3/y/+Z/0H/8P4L/yb/Nf/t/rP+0v7l/qT+cv5M/jX+jf6R/nb+bv6U/uX+5f4H/5X/x//1/1QARAD9/+3/UABfAEgAfgBrAHIAfgBbADUADwAHAOb/mf+G/47/a/8b/9b+t/7l/u3+mP6R/qD+xv74/vD+Jv8q/x7/Z/9B/z3/jv/9/y0A+f8aACoASAB+AIYAoACdAJkAxwDDALAA6QAMAQQBNgGWAX8BlgG0AakB4gHmAdcByAG8AaUBqQGDAWgBXAFRAWgBEwHWANIAtwCJAFAAEwAeAA8A0/96/w//4f4E/zL/B//8/un+8P4q/z3/VP9U/4r/uP+Z/7T/HgByAJUAkQCNAMMAsACZAKgAnQCgAJ0AcgBrAIYAawAmALT/a/9+/7T/pf93/1D/B//S/sL+8P4i/yb/B//G/m7+Lf70/eD99P26/bL98P3//SL+Y/67/vT+7f4b/6X/CwBBAEwAMQBbAHoAhgCNAKgAxwDiAAABBAEbAR8BcwHTAe4BJwIzAiACEAIYAvkBhgETAb8ArAC3ALAAdgD9/9b/uP+K/7T/jv9Y/y7/E/8E/9b+zv7O/t3+s/6B/rP+BP8T/xP/gv8DAEwAZwBIACYAUAByADEABwAtAHYAnQC0AM4ArACgALAAnQCsAJ0AawBUAEQAKgDt/7T/rP93/yr/8P7O/tb+Hv85/zL/Pf8y/xf/G/8e//j+7f4X/1z/Z/9r/5n/2v8eAD0AWABUAHYApADLAO0A8QAQAUEBVQFNAUkBNgE2AToBGwH1ANIAxwDiANIArAB6AEgALQAWAOb/0//D/7j/0//a/8v/sP+C/3P/iv9j/x7/F/9U/6z/iv89/1j/gv+C/47/nf+8/yYAggCGAH4AnQDOAJUARAA9AFQAdgCJAIYAdgBUABoA7f/L/1z/Kv85/z3/Kv/Z/un+wv6J/pH+nP70/ib/Of9B/y7/BP/p/uH+G/9j/3f/rP+4/+L/KgBvALcA2gDxAAQBAAH1ALQAfgB+AJEAywDLANYACAEMAfEA8QAXAQwB2gDeANoAzgDWAJEAVAA9AAMACwDq/53/qP+R/2f/WP9n/47/sP/D/8f/0//i/9P/w//e/xMAWwBrAFQAOQAPAAcAOQBrAKwA+QAEAdoAjQBfADUAAAD5//H/AwAaAAMA+f/t//H/5v/x/wMAz//P//X/DwAtAEgAQQBMAEEAIgAHAPX/CwAeABYA7f/H/6X/kf+C/37/d/9z/3r/d/96/37/rP+l/5X/of+R/4r/Y/9v/6X/qP+o/7j/sP+d/5n/iv9z/4r/of+G/4L/v//1/+3/uP+s/8f/2v/T/9P/+f/9/xYARAAWABMAPQA9AIIAkQBrAFsAQQAtABoAJgBEABoAAwDe/+r/HgBbAIYAWABrAHYAtADaAIYAXwByAIYATAAHAP3/5v8HAEEAYwCJAKAAtAB+AGMAZwBjAHIAZwBjAFsAOQAAAMv/iv9v/37/kf+Z/3r/Y/9n/5X/z//9/zEAWwBvAD0A9f/x/8//2v8aABMAFgDm/53/fv9z/6X/w/+Z/6z/z/+//6H/b/9r/4b/ev+C/53/lf+h/6X/v//t/+b//f8PAP3//f8AAB4ALQAmAAsA3v+8/6H/ev+R/7T/vP/q//n/5v/i//H/+f8PAEQAWwBIAEQAdgBrAF8ARAAiACYAGgAiAEEAVACRAKQAjQCZAFQALQAaAAcAAwADADEASABbAGsAegB6AHYAawBbAHYAcgBEACoAAADT/6H/c/+G/7z/z//L/8P/0//D/7j/vP+0/7z/5v8DAPX/y/+0/6H/jv+h/7D/y//m/9P/tP+//+L//f8TAPn/EwAqABMAAADt/yoARABBAGcAUAA1AEwAHgAAABMA+f/9/wMA2v+8/6j/rP+w/7T/4v/q/wcAKgALACIALQAqACIAMQBYAEwAUAALAO3//f+//4r/Z/+G/7D/vP+l/37/of+w/7z/3v/W/wAAAwDt/+3/3v/5/y0AWwBQAGsAjQBvAGcAMQA1AFAAIgAmAAcA/f/9/wcAQQBbAHoAUABMAGsAZwCkAL8AggB+AHYATABnAF8AWwBYACIAHgDW/7D/y/+//8//x/+4/6X/of/W/+L/uP+8//X/BwALAAcABwATAPH/1v/i/+r/v/+R/8P/+f8LACYADwDW/7j/y//m/wMAQQBnADEABwADAAMADwD1/9P/of+Z/4r/kf+0/6j/mf93/4b/jv+d/6H/kf/D/9b/tP+K/53/0/8LAB4A/f8WADEAEwAAAB4AFgALACIAFgAPAPX/AAD9/8v/4v8DAAMAGgAxAB4AMQBjAF8AKgAAAPX/6v/t/xMARABbAEgAOQBQAEEAWwCVAKAAXwADAAMALQBYAFsAYwBMAAMA+f/x/9P/5v8DABYAJgAmABMA8f/9/+b/0//9/+r/3v/W/7T/qP+4/7z/qP+//9r/vP/i/wMAAwD1/+r/RABjAD0AIgD9/+r//f8LAC0ALQAeAC0ABwD5/+L/1v/t/w8AJgBEAGsAVAA1AC0ATABrAGsAcgCVAKAAkQB6AGMAWAAxAAcA6v/e/+L/5v/P/53/Z/9c/47/uP+//6z/qP+V/4r/c/9B/1j/Y/9r/2f/TP8u/xv/Kv89/3f/c/9c/4b/mf+K/3r/a/+o/+r/v/+C/2f/gv/D/97/7f/1/+3/+f/5//n/AwAAAPn/HgBYAEEAUABvAIkAvwDSAN4A5QDpAOkA8QDeAMsAuwCJAGsAZwBrAF8APQBBAFAAYwBjAD0APQBYAG8AggBbABYA/f/9/+b/4v8PAA8AAAAWACoAOQBIAGsAegBIAEEAPQADAOr/4v8PACoAHgAHAMf/lf+V/8//0//W//X/8f8HAPX/4v/i/7//z//q/9r/z//m/w8AMQAqAAsAEwAqAAsA+f8HAA8AAADP/97//f/W/8v/v/+4/6j/vP/i/+3/AwATAEgAUAAqACIAAwD9//X/1v/W/7//fv9r/1z/Rf9g/3P/b/93/5X/uP+0/7D/w//T/8f/vP/q/wAA9f/x/9P/sP+0/8//+f8aAPX/y/+Z/2v/mf/i/wcAHgAeAAAAAwADAAMAGgAWAA8AHgA5ADUAQQBYAHoAsADHANoAzgCkAJEAdgB2AIYAtADWAM4AwwBnAAcA+f8TADkAPQA1AEEAawBnADkADwD5//n/AwAWACoAEwD5//H/7f8HAB4AFgAxAEEABwDq/+r/+f8HABYAEwAPABoADwDL/4L/gv93/2D/TP9F/1j/YP9+/3f/Sf9F/0n/Y/9M/1D/rP/H/8P/x/+d/2//d/+K/7D/3v/i/8v/pf+G/2D/Y/+//wMA7f/W/9r/9f8HAAsAMQAtABYAAADP/8P/1v8WAF8AfgBrAHIApACkAJUApACgAKAAmQB+AGsAawBQADUANQAtAEEAcgCgAG8AQQBjAEgAUABvAHYAfgB2AEQAGgAPABMAAAD9/x4AAAD9/wcADwAWAA8ACwD9/xMAHgADAOr/9f/i/8f/sP+G/2v/XP85/wf/F/8q/z3/b/96/3f/nf/T/+3/9f/9/+r/6v/a/6j/v//W//H/AwDW/7//2v/1/yYAVABbAF8AYwBnAHoAfgCGAJ0ApACJAIIAdgBfAEEADwAPAAMA0//m/wMA6v/P/7//x//W//X/HgBEAGMAZwBrAJkApACGAHoAbwBUADEAPQBYAFsAVAAeAAcAGgD1/8f/of9z/0n/Hv9B/1z/Mv85/z3/UP9r/1D/YP9Y/4L/rP+s/6z/rP/i/wcAHgBBAEEAIgAAAN7/5v8LAC0ASABvAIYAegBfAD0AKgAPADkAhgCgAKwAfgBfAFgATAA9AA8A/f/9//H/0//q/x4ACwDq/8//v/+0/6j/x//x//X/9f/m/9b/1v/a/8f/pf+o/6H/pf/t/xMAFgAeAAsA+f8WADUAJgAmABoAKgBEACoAHgAWAAMACwD1/8f/pf+C/8//JgAaAAcABwAHAAsACwD9/xMAPQBIAFAAcgBvAFsAWABUADEACwDx/+L/6v/P/7T/z//e/7z/v//H/8f//f8AABMALQAxAGMAXwA5ADUAKgAiAB4AEwBQAGsASAAaABMAMQALAAMADwD9//3/AAAHAAcACwAHABYAFgALAP3/tP+d/6X/nf+R/4L/ev+C/4r/ev+G/47/qP+//6H/kf+C/53/2v/q//X/2v/e//3/+f/m/7D/rP+4/7//2v/t//H/tP+s/9r/8f8mAEQASABBACIAKgBjAKwAvwCgAKQApACGAHIAYwA9ABYAEwAaADkASAAtAAcA4v/L/7T/kf+Z/8v//f/x/9b//f8HAA8AKgAtAD0AawB6AFQAEwD5/+r/qP+C/4r/lf+0//n/JgBUAF8AOQAqABoAAADe/8//3v/a/8P/v//D/6H/jv+K/6z/4v/m/xoAMQAmABYAEwAmABoAEwATACIAJgALAPn/BwD5/+L/5v/i//n/BwA1AEwAUABBADUATAAqACoAIgALAPH/5v8eAEQAXwBQAEwAbwBvAEEADwD1/+b/0//L/+b/+f81AHIASAAmAD0AOQATAAAA9f8AAAsABwDm/9r/+f/x/9P/vP+4/8v/6v8TAD0ANQAmAD0ANQD9/+b/+f/e/9b/0/+d/5H/kf9r/y7/C//p/i7/mf+w/97/1v/a/8v/uP/m//H/CwAaAA8A+f/1/w8ARABrAHIAegBjAEgAWAA9ACIAQQBEAFgAUAAqAB4AAwD5/97/tP/i//H/1v/i/+b/AAALAP3/AADx/97/8f8aADUAUAB6AH4AegBMABYAGgAiAEEAUABEAFAAUAA5APH/2v/i/9P/7f/i/6X/b/9v/47/z//m/8//1v+8/8v/7f/q/xoAUAAtAAsAHgAaAAsAAAD5/+b/6v/x/y0ANQAAAM//nf+//8f/tP+8/8v/0//m//n//f8tAG8AegBnAEgAMQBMAFAAWABbADEALQAxACIABwD5/xMAAwAAAP3/8f/t//X/3v+4/97/FgBBAEEAIgATABoACwD1/+3/4v8AACIAMQADANP/tP+l/7D/of+O/37/ev9+/2f/ev+o/5n/iv+R/6X/lf+w//3/JgA5ACIASABYACIA+f/W/97/DwAeAP3/GgBIAGcAUAAxAD0AOQBBADEANQBMAGsAegBIACIAGgAAAMf/uP/W/+3/DwAaAP3//f/L/8P/HgA5ACoASAB6AI0AXwATAPn//f/q/8v/pf+w/7z/pf+R/47/iv+C/4b/c/9z/4L/tP/i/wMAMQBEAEEADwALACoAKgBUAF8AMQAPAAcAEwAqAEQANQAtABYAw/+d/47/ev+0/wcALQBbAHoANQAaAA8ALQBEAC0AdgC0AJ0AfgBjAFQAUAAtACIAEwATACoASABBABMA/f/m/+b//f8AAPH/3v/W/+b/AwAaABoAMQAmAAcADwAqABMA+f/1/+L/5v/9//n/9f/t/7z/of+d/5X/tP/i/wsAKgAPAOL/2v/H/6j/nf+h/7j/z//5/x4ABwDH/53/gv+K/9b/3v/e/wMACwDt/9r/5v/9/yYAGgAHACoAKgDi/7//v//L/+L/7f8HAB4APQAqAAcA+f/1/x4AQQBbAFsAMQAAAOL/3v/x/wMAFgAxAFgAWwAiAP3/8f/m/+r/DwAqABMA+f8DADkAWABIAD0AKgAeAEEAWABBAC0AQQAqAAcAJgBIADkAPQBQADkADwALAA8A9f/q/97/3v/W/5n/a/9z/2f/gv+s/5n/of+w/6z/x//H/+3/DwAPADEALQD9/x4AQQAtAC0AMQAaAAcALQAtABYAMQAtAP3/1v/W//H/FgA5ACoAIgAPAAAA+f+4/6z/y/+8/6z/y//t/8v/v//W/+L/+f+//5n/0//T/9r/9f/1//X/4v/D/7T/x//a//n/3v/L/+b/6v/a/6z/uP/t//n/of93/8f//f8iACoANQB+AIkAbwB2AFQALQAWABMAOQA9ABYA+f/e/8v/v/+8/8f/4v/5//n/CwAPAA8A9f/L/+L/AAAWADkAUABYAGsAcgCNAIYATABBADkAJgAxAF8AggCNAGsARAAeAAcABwALAA8AGgAqAD0AOQAWACoASAAqACIA+f+8/7j/mf9z/2D/Sf9Y/2v/a/+Z/9r/6v8LAEgAUABIAHYAhgBjAGcAVAAiABoAAwDq//H/BwALAN7/1v/t/+3/z/+G/3f/nf+8/9P/w/+V/6H/vP+w/8P/2v8DAAcABwA5AG8AkQByAFgAQQAWAA8AIgAaAAMADwA9AEEALQALAAAALQA9ACYAAAADACYANQAtACIAEwAAANb/x//W/97/7f/e/9b/v/+Z/4L/kf+l/7D/4v8AAD0AUAAPAPX/z//e//H/3v8WADkARAADAMP/9f8DAB4AOQAiAAsA/f8HABMAAwDq/+r/AAAAAAAA4v/a/9r/x/+o/4b/gv+R/4b/Y/9r/47/z/+//7D/8f8HAEgAegBrACoAAwALABoAIgD5/97/z//q//3/9f8DADEAJgDx//3/BwAxAGMAjQCRAF8AWACZAMMAvwCRAEgAHgA1AEwAAwDq/yIACwDx/+L/8f8PAPX/6v/5/xMAPQBnAJkAtAC0AJkAWAATANP/z/8HAB4ADwDt/7//sP+R/3r/a/9Y/3r/iv+l/+b/AAADABMADwD1/97/0//H/9P/0//e//n/2v+V/1T/Rf9c/53/3v8AAC0AKgD9/+b/6v/5/wAAGgALAOr/3v+//7D/rP/T/xMATACCAHIATAA1ABoAHgA9AEwAYwByAFAAIgAAAOr/z//a/wMAKgBMADEANQA1ABoAJgAPAP3/x/+4/7z/qP+4/8P/AAAiAEEAPQAWACoAQQBMAEEAEwAWABYAtP9Y/2P/hv+C/3f/gv+w/8f/z//m/xMAYwBIAB4AMQAtAHYAfgA1ABMA5v/D/7D/uP/e//n/+f/m/8f/sP+Z/8P/AADx/+L/z//m/yYAOQA9AFQASABMAFAAEwAAAP3/AwAPAAAA2v+4/97/z/+d/8v/9f8HABMAEwAWABMAKgAxADkAggC0ALsArAB+AGcAWwBIADkAIgA1AIYAoACZAKQAmQCdAJEAhgCdAGsAZwBfAB4AGgAHAPX/6v/H/4b/Rf81/2D/gv9v/2v/WP85/1z/ev+d//n/EwDt/9b/2v/e/8P/2v8eAA8A4v+o/1D/C/8T/0z/Y/+O/4r/Y/9n/2P/Y/9g/2//uP/x//3/CwAHAOL/uP+8/+3/6v8AAEQAggB+AEgARABjAFgAPQBMAFAAXwBMAC0AFgAiAC0AKgBvAIIAqADxAOUAzgCdAEQAHgAqAPn/4v8AAAsALQA9ABoAAwD1/yoAcgBUABoAFgBIAG8AegCRAKQAlQCRAIYAZwBBAEEATAAxABoADwDq/7j/nf+R/7//AAAHANr/vP+4/53/fv9z/53/6v/i/6z/b/9v/37/nf/T/9P/rP+V/6H/mf+O/7D/1v/x/97/vP+4/6z/v//H/7//vP+h/6j/tP+s/5n/lf/H/9b/5v8HADEAXwBYAFsASAAtAEQAVABUAFsAOQAPAAMA7f/P/7//y//x/xMAQQBMAEEATABMAGsAawAtAC0ALQAxAEQATABUAFQAMQD5/+r/tP+V/7j/v//i/wAA7f+//37/d/+0/9r/5v/a/8f/vP+Z/2f/WP96/7z/x/+l/5H/nf+///H/AAD1/wsASABrAFQAQQAxAA8AFgAqAD0AYwB6AJEAmQB+AFsAWABjAFsAOQBUAHoAWAAiAPH/6v/9/w8AIgAPAPH/9f/q/+r//f8HAAsAAwAqADEAAwD9/xYAUABbAEEAWABjAFgAZwBvAIYAjQCJAH4AWwAqAOr/4v/T/8f/tP+h/7D/lf+G/7D/y/+8/6j/pf+4/8v/3v/i/9r/0//P/7T/jv+G/7T/2v/e/+3/y/+l/6X/uP+s/5H/gv9v/2D/WP+O/9r/5v8AAPn/z//m//n/AwADAAMAFgATAAsAAAAAAPn/x/+l/8P/4v8HABoA/f8iADkAAwAaAEQASABMAFgAbwCCAI0AjQCVALcAuwC3AI0AdgCCAGMAUABbAHYAdgBbADkAJgAHAAsAGgALACIAMQAmAA8AHgAxAB4AAADt/+b/6v8TADUAOQAaAOr/v/+Z/4r/fv+C/7j/3v/1/+b/z//T/8//4v8LABMACwD5/+L/x/+l/7z/0//m/+L/mf+Z/+b/BwAqAC0AFgAPAAsABwDq/8f/rP+C/2//ev9r/2P/d/+C/3r/c/+R/8P/0//1/wsAAAAtAFQAWABfAGsAYwA5ABYABwAHABoAVAByAEwAKgD9/9r/tP+K/5X/vP/q/wsAMQBEAEQAZwBfAC0ADwADACIARABYAFgAQQAmAA8A/f/5/wMAFgAeAAsA6v/a/9r/9f8PADUAUABMAEgATABBADkAcgBfADEAGgDm/7z/jv+o/8f/tP/H/+b/HgAiACoAPQAeAAcA8f/1/wAA+f/5/wMAAADe/7//x/+4/6H/sP+8/8//v/+8/9b/y//L/8//w//1/w8ABwDq/9P/3v8HAEgALQAxAG8AYwA1ACYAFgADAAsACwALAPn/2v/i/7D/lf+h/7D/1v/a//X/EwAqAB4ACwDx/97/4v/i//n/9f/T/8f/6v/9/wMABwAaADUAQQBjADUAFgAtADUAPQAmAB4ABwD1/9r/tP+0/8P/w/+s/8///f8HAAsA/f8AABYALQAtABoABwDi//H//f/1/+r/3v/5/wcAAwAWAFQASAAPANr/vP/T/9b/1v/q/wAAEwAeAEQAYwBQAFQAUABjAIkAkQC0AMcAggA5ACIAEwAaAB4AJgBUAGcAQQALAPH/CwA1AEQAHgALAAsAEwAWAB4ALQATAB4AFgDt/97/0//T/+3/AwDq/9r/w/+d/4b/ev+O/5n/rP+w/6z/qP+o/8//x/+0/5n/iv+o/8v/y/+4/7j/x/+0/53/rP+8/8//+f/e/8v/7f8WACYAAwDW/8f/v//a//H/DwA9AEwAbwCGAHoAawBjAFQATAA1ABoAHgAHAAsA/f/1//H//f8WABMAGgATAC0ANQAtAEwAWABMACYAEwAiACIAHgA5AFAAXwBbAEwALQALAAcA/f8PAAMA4v/t/wcADwDt/+b/8f/t/+b/5v/9//H/1v/x/9b/x//i/+b/AAD1/9b/y/+s/6z/sP+0/8f/qP+Z/5n/Y/9v/5X/qP/T/8P/z//q//X/AwDq/9P/3v/5/+r/2v/a/7j/pf+w/5H/kf+w/9P/AAADAP3/9f/q//n/FgBbAKAAjQBnAGMAYwBQAEwAUABIAFQAVAB6AIkAWAAxAEgAXwAtAA8ACwATACYASABfAGMAawBQACoAFgAAAAMADwAAAA8AHgALAP3/4v/D/5n/nf/P/+L/4v/i//H/CwADAOL/y//W/wMAFgAHAPn/2v/T/8f/rP/H/+b/4v/1/xMANQAaAPX/BwAWACoAHgAAAAcA9f/L/8P/uP/m/wsA/f8PAAcACwATAAsACwDt/97/+f8LAPX/8f8HADUAawByAHYAjQCNAFgAMQAaADUAUAA9ABMA5v/a/9P/9f8HAPn/AAAAAPX/EwBMAGMAUAA9ADEAKgAqADUAKgD9/97/x/+//7j/uP+d/37/d/9z/4r/hv+Z/8//2v/D/6H/lf+G/4b/of/e/y0ATAAqAAcACwAAAPH/AwAPAAsAAADL/6z/vP+8/8P/z//L/7z/0//9/wcAAAATAC0AIgAxAC0AFgAmADkAIgATAAMAEwBQAG8AWAA9AF8AdgBbAEwAVABbAGMAWABMAFQASABMADEAFgAHAOr/3v/T/8v/qP+8//n/5v/a/9b/w//L/+L/1v/D/7//pf+V/6j/1v/q/wsABwAHACYA5v+8/7D/vP/m/8f/qP+8/8v/v/+s/8v/8f8HACoATAB+AH4AWwBYAFQAOQA9ADUAEwAxADkAFgAAAOL/w/+0/5X/of/e//X/4v/D/7j/v//i//X/AwAeAAcACwAeADUANQD9/yIAYwBvAEwAFgALAP3/2v/a/wMADwAPAP3//f8aADEASAAtABoABwADAAcAIgBQAEEAOQAeAO3/2v/P/+r//f/5/wMAAwD1/+r/GgBIADkAQQBjAG8AUAAWAP3/+f8HAAcA5v/i/9b/uP+8/7D/sP/L/8P/0//q/+3/5v/W/97/9f/9/+r/vP/H//H/9f8AAPn/6v/m//H//f8AAAcA8f/m/+r/z//T/97/z/+8/7j/0//W//X/AADx//3/+f8HABMAFgAPAB4A/f/q/+L/0/8DAP3/2v/L/+b/+f/m//3/EwAaAAcAAAALAPn/6v/1/xMAEwAPAD0AVABYAGcASAAqACIAIgBEAEEATAByAIIAawBIAEwATABMADUAMQBvAHYATAA5ADEANQAiABYAIgAeACYAIgBBAD0AIgAHAM//w/+0/6X/pf+w/8P/6v/q/8v/vP+0/8P/1v/D/8P/v/+Z/4r/kf+s/7j/x//W/9P/x/+//8f/3v/t//n/DwAxAEwAIgD1//H/z/+0/+r/BwAAAPX/0/+//6j/sP/e/+b/9f8TABMAEwAaAFAAWwBEAF8AWwBQADkADwD1/wAACwADAAAA5v/e/wMAEwAeAB4AEwAeAAMAz//T/9b/z//i/97/8f8AAAAAAwD9/97/0//i/8//0//x/wAA/f/t//H/7f/i//H//f8eACYAJgBIACoAEwA9AEwATAA5ADkAUABMAEEAHgAHABoAQQBfAFAAOQBIADEA9f/D/6X/iv+G/5H/ev9+/6H/rP/H/8f/uP/P/8//x//T//X/DwATAC0ASABbAGMAWwByAJkAhgByAHoAfgCGAIYAdgBbAEQAGgAaACoANQBMAEEAIgD9/97/v//P/+r/6v/5//n/AAADAPH/9f8PABoA9f/L/7D/y//e/+L/3v/i//n/0/+0/6X/jv+8/9P/z/+w/47/qP+8/7D/nf+8/+3//f/5/+b//f8LAPH/7f/T/8f/5v/T/7z/vP/H/9P/w//L/+L/9f/9/w8AHgA9AFgAWwBIAD0ATAAqAAAA/f8AAAcA/f/9/+r/2v/5/w8ANQAxADUAQQAxACIAFgAqACYAEwAeACYAPQBBAAsA/f8AAPX/8f/x/wAA/f/x/+L/+f8DAPn/AwDe/8//1v/m//H/+f/9//n/DwALANb/qP+w/9P/0//T/9b/AwAiACoALQAiACIAFgAWAPX/v/+4/7D/qP+o/6X/v//a/wsAPQBMAHIAbwAtABoAJgAWABoAOQA9ADEAIgAeACIADwD1/wcAKgBEAFgAWABjAFAAEwD5/w8APQAqAB4ALQAxAFQAHgAPACoABwD9/+L/y//q//3/AAD5/8v/v//a//3/AwD9/wMABwD9/w8APQBQAFAAGgD9//X/8f8DAC0AbwB6AFAAJgAHAO3/tP+s/8v/1v/T/7T/pf+R/4L/hv+Z/7T/0//W/8v/x//P/97/6v/t/+r/z/+8/8v/6v8HAAMA/f8DAAMA3v+o/6H/w//P/8f/y//m//n//f8DAAsA8f+s/4b/iv+R/6z/z//t/wMAAADq/+b/BwAiACIANQBfAHYAfgBYAEQATAA9AFAAbwB2AIYAcgBBAB4ACwDt/97/+f8TACYAKgAqAEgAIgD5//3/+f8aADUAJgAqADEAIgAiADEATABMABoABwDq/9r/1v/t/xoAOQBYAEgALQA5AFsAXwBrAFsAOQAxADEAGgDx/+b/z//L/8v/5v/m/9b/2v/H/97/8f/m/9b/y//D/7T/mf9r/1j/YP9+/53/qP+w/7T/x/+//53/iv+K/6j/5v8AAPX/8f/q/wAAFgAAAAAACwAmABoA+f8PADUAOQADAPH/5v/e/8v/of+h/7T/0//t/+r/y//T/+r/CwBBAF8AWwBMAGMAYwBMAD0ARABbAF8AVABUAF8ASAAmACoAUABjAGMAdgB6AHYAbwBUAGMAcgBYAA==\" type=\"audio/wav\" />\n",
              "                    Your browser does not support the audio element.\n",
              "                </audio>\n",
              "              "
            ],
            "text/plain": [
              "<IPython.lib.display.Audio object>"
            ]
          },
          "metadata": {
            "tags": []
          },
          "execution_count": 7
        }
      ]
    },
    {
      "cell_type": "code",
      "metadata": {
        "ExecuteTime": {
          "end_time": "2019-11-23T13:46:11.957512Z",
          "start_time": "2019-11-23T13:46:11.955205Z"
        },
        "id": "Fq58xAZ-zzqM",
        "colab_type": "code",
        "outputId": "4e6afb2b-17f0-41f0-c5ab-2bbecbeb43fe",
        "colab": {
          "base_uri": "https://localhost:8080/",
          "height": 34
        }
      },
      "source": [
        "print(sample_rate)"
      ],
      "execution_count": 0,
      "outputs": [
        {
          "output_type": "stream",
          "text": [
            "16000\n"
          ],
          "name": "stdout"
        }
      ]
    },
    {
      "cell_type": "markdown",
      "metadata": {
        "id": "i57Oe863zzqd",
        "colab_type": "text"
      },
      "source": [
        "**Resampling**\n",
        "\n",
        "From the above, we can understand that the sampling rate of the signal is 16000 hz. Let us resample it to 8000 hz since most of the speech related frequencies are present in 8000z "
      ]
    },
    {
      "cell_type": "code",
      "metadata": {
        "ExecuteTime": {
          "end_time": "2019-11-23T13:46:46.338857Z",
          "start_time": "2019-11-23T13:46:46.057043Z"
        },
        "id": "_JMXK0T2zzqf",
        "colab_type": "code",
        "outputId": "25a9e7ce-960e-4a82-b190-34796e02c8dd",
        "colab": {
          "base_uri": "https://localhost:8080/",
          "height": 75
        }
      },
      "source": [
        "samples = librosa.resample(samples, sample_rate, 8000)\n",
        "ipd.Audio(samples, rate=8000)"
      ],
      "execution_count": 0,
      "outputs": [
        {
          "output_type": "execute_result",
          "data": {
            "text/html": [
              "\n",
              "                <audio controls=\"controls\" >\n",
              "                    <source src=\"data:audio/wav;base64,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\" type=\"audio/wav\" />\n",
              "                    Your browser does not support the audio element.\n",
              "                </audio>\n",
              "              "
            ],
            "text/plain": [
              "<IPython.lib.display.Audio object>"
            ]
          },
          "metadata": {
            "tags": []
          },
          "execution_count": 9
        }
      ]
    },
    {
      "cell_type": "markdown",
      "metadata": {
        "id": "0uT9kcauzzqu",
        "colab_type": "text"
      },
      "source": [
        "Now, let’s understand the number of recordings for each voice command:"
      ]
    },
    {
      "cell_type": "code",
      "metadata": {
        "ExecuteTime": {
          "end_time": "2019-11-23T13:49:53.473105Z",
          "start_time": "2019-11-23T13:49:53.471003Z"
        },
        "id": "EivuITb8zzqx",
        "colab_type": "code",
        "colab": {}
      },
      "source": [
        "labels=os.listdir(train_audio_path)"
      ],
      "execution_count": 0,
      "outputs": []
    },
    {
      "cell_type": "code",
      "metadata": {
        "id": "OHh-78I-Has1",
        "colab_type": "code",
        "outputId": "4481f802-a735-4feb-edcf-1a13d1afd5ec",
        "colab": {
          "base_uri": "https://localhost:8080/",
          "height": 34
        }
      },
      "source": [
        "labels"
      ],
      "execution_count": 0,
      "outputs": [
        {
          "output_type": "execute_result",
          "data": {
            "text/plain": [
              "['tree', 'four', 'five', 'two', 'six', 'one']"
            ]
          },
          "metadata": {
            "tags": []
          },
          "execution_count": 11
        }
      ]
    },
    {
      "cell_type": "code",
      "metadata": {
        "ExecuteTime": {
          "end_time": "2019-11-23T13:50:07.172193Z",
          "start_time": "2019-11-23T13:50:06.893250Z"
        },
        "id": "9zFVPvuCzzq_",
        "colab_type": "code",
        "outputId": "3b511e81-e69a-43a8-97eb-f57f41101510",
        "colab": {
          "base_uri": "https://localhost:8080/",
          "height": 376,
          "referenced_widgets": [
            "b0a4504b524449faa0fdeae2396eefaf",
            "d8b7e36f66e94552bf5bc3ad11216ad7",
            "9a915f5a8c15488eb39dc84aadbd9ede",
            "15c4a5dd0b6a46798a4250aeb398611c",
            "e4646bc067c44d758f53338db75795ab",
            "4f03b654d2ab4edcabd0d3117c2e1535",
            "a779f79ee0524a23950cb2cc47177037",
            "77e1b2c2c54548419fe602ddd25154d6"
          ]
        }
      },
      "source": [
        "#find count of each label and plot bar graph\n",
        "no_of_recordings=[]\n",
        "for label in tqdm(labels):\n",
        "    waves = [f for f in os.listdir(train_audio_path + '/'+ label) if f.endswith('.wav')]\n",
        "    no_of_recordings.append(len(waves))\n",
        "    \n",
        "#plot\n",
        "plt.figure(figsize=(30,5))\n",
        "index = np.arange(len(labels))\n",
        "plt.bar(index, no_of_recordings)\n",
        "plt.xlabel('Commands', fontsize=12)\n",
        "plt.ylabel('No of recordings', fontsize=12)\n",
        "plt.xticks(index, labels, fontsize=15, rotation=60)\n",
        "plt.title('No. of recordings for each command')\n",
        "plt.show()"
      ],
      "execution_count": 0,
      "outputs": [
        {
          "output_type": "display_data",
          "data": {
            "application/vnd.jupyter.widget-view+json": {
              "model_id": "b0a4504b524449faa0fdeae2396eefaf",
              "version_minor": 0,
              "version_major": 2
            },
            "text/plain": [
              "HBox(children=(IntProgress(value=0, max=6), HTML(value='')))"
            ]
          },
          "metadata": {
            "tags": []
          }
        },
        {
          "output_type": "stream",
          "text": [
            "\n"
          ],
          "name": "stdout"
        },
        {
          "output_type": "display_data",
          "data": {
            "image/png": "[encoded data removed]",
            "text/plain": [
              "<Figure size 2160x360 with 1 Axes>"
            ]
          },
          "metadata": {
            "tags": [],
            "needs_background": "light"
          }
        }
      ]
    },
    {
      "cell_type": "markdown",
      "metadata": {
        "id": "HRJBiTzozzrZ",
        "colab_type": "text"
      },
      "source": [
        "**Duration of recordings**\n",
        "\n",
        "What’s next? A look at the distribution of the duration of recordings:"
      ]
    },
    {
      "cell_type": "markdown",
      "metadata": {
        "id": "UjdQA0wczzre",
        "colab_type": "text"
      },
      "source": [
        "**Preprocessing the audio waves**\n",
        "\n",
        "In the data exploration part earlier, we have seen that the duration of a few recordings is less than 1 second and the sampling rate is too high. So, let us read the audio waves and use the below-preprocessing steps to deal with this.\n",
        "\n",
        "Here are the two steps we’ll follow:\n",
        "\n",
        "* Resampling\n",
        "* Removing shorter commands of less than 1 second\n",
        "\n",
        "Let us define these preprocessing steps in the below code snippet:"
      ]
    },
    {
      "cell_type": "code",
      "metadata": {
        "ExecuteTime": {
          "end_time": "2019-11-23T14:08:20.118813Z",
          "start_time": "2019-11-23T13:56:07.617174Z"
        },
        "id": "dVw4sVffzzrg",
        "colab_type": "code",
        "outputId": "4739e59e-0b9c-4aa4-f653-84349a84dab9",
        "colab": {
          "base_uri": "https://localhost:8080/",
          "height": 264,
          "referenced_widgets": [
            "24dccd2167994d2094b86c4b8b232a6d",
            "be030b9351b04b5390d702d1986f51f6",
            "e8fe795615ea483bb911b904a2f0659d",
            "231dd8ca216c4445a710879fd676c3ea",
            "e321533bf5094274a52f49f9387cdda8",
            "04b3b70fa29c4677a5e61fd726c18245",
            "18584eaa95cc43e59a9af603909890af",
            "b6d9e3e2c0de492489de1a943d08ce08",
            "bb0605060f6b41ec8e58907f6fc10f1b",
            "5fcd3498d31442e5a581ccfc9c74b975",
            "757a20aa5ef84e48bbf07776e27e3755",
            "84b183f6dbc349e991b8eee404dc41c5",
            "a24df2ab847d44e4bdda070634a1f3fb",
            "30edc912a52f40449f1cc4a10280713a",
            "d7a1014478a14eddb9f5e5a0d3e1a7e6",
            "d35a9301006a470a9c6f1ad5d0b93bcc",
            "b80e074d02ef469cb384110263cd14d2",
            "2ff6248d903342a6ac0a69e9e0cc116f",
            "ceb39b7e35584fd2860c16d2e47c3a4f",
            "c2e6fcc6846743cab24605b8ffcf4b29",
            "ed0b7368a63e41cbbb137935c9bb9e90",
            "c7f8de354904477480b6d98e4b36e075",
            "4df6a2962ba84f5687a56fa03cc61934",
            "9f63be8c492d416fabb2ee834e4cb82f",
            "3a660c395d0b4986a661c6e502060c6c",
            "d36c779a6c2944b08dd4bb00b01b5aac",
            "fb38501b7c5a46fdb3847cce76c5d9e8",
            "e863ca6d888e4e31aff16354d4ea4409",
            "685b94b256c245bab5c73be1fa53c7e7",
            "9ce940ad7f9543d58fc48fc73d2d7806",
            "9222209403d144ae97e92681925732e7",
            "24f0ef65760d4b6d972b29c208037e38"
          ]
        }
      },
      "source": [
        "train_audio_path = '/content/drive/My Drive/Estudos/FIB - PÓS/Aula-38/Numbers/train/'\n",
        "\n",
        "all_wave = []\n",
        "all_label = []\n",
        "duration_of_recordings=[]\n",
        "for label in labels:\n",
        "    print(label)\n",
        "    waves = [f for f in os.listdir(train_audio_path + '/'+ label) if f.endswith('.wav')]\n",
        "    for wav in tqdm(waves):\n",
        "        samples, sample_rate = librosa.load(train_audio_path + '/' + label + '/' + wav, sr = 16000)\n",
        "        duration_of_recordings.append(float(len(samples)/sample_rate))\n",
        "        \n",
        "        samples = librosa.resample(samples, sample_rate, 8000)\n",
        "        \n",
        "        if(len(samples)== 8000) : \n",
        "            all_wave.append(samples)\n",
        "            all_label.append(label)\n",
        "\n",
        "plt.hist(np.array(duration_of_recordings))"
      ],
      "execution_count": 0,
      "outputs": [
        {
          "output_type": "stream",
          "text": [
            "tree\n"
          ],
          "name": "stdout"
        },
        {
          "output_type": "display_data",
          "data": {
            "application/vnd.jupyter.widget-view+json": {
              "model_id": "24dccd2167994d2094b86c4b8b232a6d",
              "version_minor": 0,
              "version_major": 2
            },
            "text/plain": [
              "HBox(children=(IntProgress(value=0, max=1733), HTML(value='')))"
            ]
          },
          "metadata": {
            "tags": []
          }
        },
        {
          "output_type": "stream",
          "text": [
            "\n",
            "four\n"
          ],
          "name": "stdout"
        },
        {
          "output_type": "display_data",
          "data": {
            "application/vnd.jupyter.widget-view+json": {
              "model_id": "bb0605060f6b41ec8e58907f6fc10f1b",
              "version_minor": 0,
              "version_major": 2
            },
            "text/plain": [
              "HBox(children=(IntProgress(value=0, max=2372), HTML(value='')))"
            ]
          },
          "metadata": {
            "tags": []
          }
        },
        {
          "output_type": "stream",
          "text": [
            "\n",
            "five\n"
          ],
          "name": "stdout"
        },
        {
          "output_type": "display_data",
          "data": {
            "application/vnd.jupyter.widget-view+json": {
              "model_id": "b80e074d02ef469cb384110263cd14d2",
              "version_minor": 0,
              "version_major": 2
            },
            "text/plain": [
              "HBox(children=(IntProgress(value=0, max=2357), HTML(value='')))"
            ]
          },
          "metadata": {
            "tags": []
          }
        },
        {
          "output_type": "stream",
          "text": [
            "\n",
            "two\n"
          ],
          "name": "stdout"
        },
        {
          "output_type": "display_data",
          "data": {
            "application/vnd.jupyter.widget-view+json": {
              "model_id": "3a660c395d0b4986a661c6e502060c6c",
              "version_minor": 0,
              "version_major": 2
            },
            "text/plain": [
              "HBox(children=(IntProgress(value=0, max=2373), HTML(value='')))"
            ]
          },
          "metadata": {
            "tags": []
          }
        }
      ]
    },
    {
      "cell_type": "markdown",
      "metadata": {
        "id": "kmOH-WuDzzrs",
        "colab_type": "text"
      },
      "source": [
        "Convert the output labels to integer encoded:"
      ]
    },
    {
      "cell_type": "code",
      "metadata": {
        "ExecuteTime": {
          "end_time": "2019-11-23T14:10:39.269935Z",
          "start_time": "2019-11-23T14:10:39.260641Z"
        },
        "id": "A09qcXH2zzru",
        "colab_type": "code",
        "colab": {}
      },
      "source": [
        "from sklearn.preprocessing import LabelEncoder\n",
        "le = LabelEncoder()\n",
        "y=le.fit_transform(all_label)\n",
        "classes= list(le.classes_)"
      ],
      "execution_count": 0,
      "outputs": []
    },
    {
      "cell_type": "markdown",
      "metadata": {
        "id": "6PvVXbUbzzr4",
        "colab_type": "text"
      },
      "source": [
        "Now, convert the integer encoded labels to a one-hot vector since it is a multi-classification problem:"
      ]
    },
    {
      "cell_type": "code",
      "metadata": {
        "ExecuteTime": {
          "end_time": "2019-11-23T14:12:23.413284Z",
          "start_time": "2019-11-23T14:12:21.214952Z"
        },
        "id": "BRHuW7Q9zzr6",
        "colab_type": "code",
        "colab": {}
      },
      "source": [
        "from keras.utils import np_utils\n",
        "y=np_utils.to_categorical(y, num_classes=len(labels))"
      ],
      "execution_count": 0,
      "outputs": []
    },
    {
      "cell_type": "markdown",
      "metadata": {
        "id": "6WhBZ3m4zzsI",
        "colab_type": "text"
      },
      "source": [
        "Reshape the 2D array to 3D since the input to the conv1d must be a 3D array:"
      ]
    },
    {
      "cell_type": "code",
      "metadata": {
        "ExecuteTime": {
          "end_time": "2019-11-23T14:13:11.308846Z",
          "start_time": "2019-11-23T14:13:11.049732Z"
        },
        "id": "d98uaHvmzzsK",
        "colab_type": "code",
        "colab": {}
      },
      "source": [
        "all_wave = np.array(all_wave).reshape(-1,8000,1)"
      ],
      "execution_count": 0,
      "outputs": []
    },
    {
      "cell_type": "markdown",
      "metadata": {
        "id": "o9ujA6K6zzsU",
        "colab_type": "text"
      },
      "source": [
        "**Split into train and validation set**\n",
        "\n",
        "Next, we will train the model on 80% of the data and validate on the remaining 20%:\n"
      ]
    },
    {
      "cell_type": "code",
      "metadata": {
        "ExecuteTime": {
          "end_time": "2019-11-23T14:13:29.469060Z",
          "start_time": "2019-11-23T14:13:28.998761Z"
        },
        "id": "SARTQwo9zzsW",
        "colab_type": "code",
        "colab": {}
      },
      "source": [
        "from sklearn.model_selection import train_test_split\n",
        "x_tr, x_val, y_tr, y_val = train_test_split(np.array(all_wave),np.array(y),stratify=y,test_size = 0.2,random_state=777,shuffle=True)"
      ],
      "execution_count": 0,
      "outputs": []
    },
    {
      "cell_type": "markdown",
      "metadata": {
        "id": "1agOqky5zzsh",
        "colab_type": "text"
      },
      "source": [
        "**Model Architecture for this problem**\n",
        "\n",
        "We will build the speech-to-text model using conv1d. Conv1d is a convolutional neural network which performs the convolution along only one dimension. "
      ]
    },
    {
      "cell_type": "markdown",
      "metadata": {
        "id": "j3ZbJUMMzzsj",
        "colab_type": "text"
      },
      "source": [
        "**Model building**\n",
        "\n",
        "Let us implement the model using Keras functional API."
      ]
    },
    {
      "cell_type": "code",
      "metadata": {
        "id": "-ui9dei7Y7BN",
        "colab_type": "code",
        "colab": {}
      },
      "source": [
        "from tensorflow import keras\n",
        "from tensorflow.keras.models import Sequential\n",
        "from tensorflow.keras.layers import Dense\n",
        "from tensorflow.keras.layers import Dropout"
      ],
      "execution_count": 0,
      "outputs": []
    },
    {
      "cell_type": "code",
      "metadata": {
        "id": "NWcwcj60ZAgW",
        "colab_type": "code",
        "colab": {}
      },
      "source": [
        "from keras.layers import Dense, Dropout, Flatten, Conv1D, Input, MaxPooling1D\n",
        "from keras.models import Model\n",
        "from keras.callbacks import EarlyStopping, ModelCheckpoint\n",
        "from tensorflow.python.keras import backend as K\n",
        "K.clear_session()"
      ],
      "execution_count": 0,
      "outputs": []
    },
    {
      "cell_type": "code",
      "metadata": {
        "id": "iEP8Z2LxZ1TH",
        "colab_type": "code",
        "colab": {}
      },
      "source": [
        "inputs = Input(shape=(8000,1))"
      ],
      "execution_count": 0,
      "outputs": []
    },
    {
      "cell_type": "code",
      "metadata": {
        "id": "SumwW-nkaUhX",
        "colab_type": "code",
        "colab": {}
      },
      "source": [
        "inputs"
      ],
      "execution_count": 0,
      "outputs": []
    },
    {
      "cell_type": "code",
      "metadata": {
        "ExecuteTime": {
          "end_time": "2019-11-23T14:16:18.785117Z",
          "start_time": "2019-11-23T14:16:18.634808Z"
        },
        "id": "UBvyqpMIzzsm",
        "colab_type": "code",
        "colab": {}
      },
      "source": [
        "#First Conv1D layer\n",
        "conv = Conv1D(8,13, padding='valid', activation='relu', strides=1)(inputs)\n",
        "conv = MaxPooling1D(3)(conv)\n",
        "conv = Dropout(0.3)(conv)\n",
        "\n",
        "#Second Conv1D layer\n",
        "conv = Conv1D(16, 11, padding='valid', activation='relu', strides=1)(conv)\n",
        "conv = MaxPooling1D(3)(conv)\n",
        "conv = Dropout(0.3)(conv)\n",
        "\n",
        "#Third Conv1D layer\n",
        "conv = Conv1D(32, 9, padding='valid', activation='relu', strides=1)(conv)\n",
        "conv = MaxPooling1D(3)(conv)\n",
        "conv = Dropout(0.3)(conv)\n",
        "\n",
        "#Fourth Conv1D layer\n",
        "conv = Conv1D(64, 7, padding='valid', activation='relu', strides=1)(conv)\n",
        "conv = MaxPooling1D(3)(conv)\n",
        "conv = Dropout(0.3)(conv)\n",
        "\n",
        "#Flatten layer\n",
        "conv = Flatten()(conv)\n",
        "\n",
        "#Dense Layer 1\n",
        "conv = Dense(256, activation='relu')(conv)\n",
        "conv = Dropout(0.3)(conv)\n",
        "\n",
        "#Dense Layer 2\n",
        "conv = Dense(128, activation='relu')(conv)\n",
        "conv = Dropout(0.3)(conv)\n",
        "\n",
        "outputs = Dense(len(labels), activation='softmax')(conv)\n",
        "\n",
        "model = Model(inputs, outputs)\n",
        "model.summary()"
      ],
      "execution_count": 0,
      "outputs": []
    },
    {
      "cell_type": "markdown",
      "metadata": {
        "id": "ntjAijjkzzs0",
        "colab_type": "text"
      },
      "source": [
        "Define the loss function to be categorical cross-entropy since it is a multi-classification problem:"
      ]
    },
    {
      "cell_type": "code",
      "metadata": {
        "ExecuteTime": {
          "end_time": "2019-11-23T14:19:44.415040Z",
          "start_time": "2019-11-23T14:19:44.371626Z"
        },
        "id": "_QUYap4Tzzs3",
        "colab_type": "code",
        "colab": {}
      },
      "source": [
        "model.compile(loss='categorical_crossentropy',optimizer='adam',metrics=['accuracy'])"
      ],
      "execution_count": 0,
      "outputs": []
    },
    {
      "cell_type": "markdown",
      "metadata": {
        "id": "he7vrh91zztF",
        "colab_type": "text"
      },
      "source": [
        "Early stopping and model checkpoints are the callbacks to stop training the neural network at the right time and to save the best model after every epoch:"
      ]
    },
    {
      "cell_type": "code",
      "metadata": {
        "ExecuteTime": {
          "end_time": "2019-11-23T14:20:29.075272Z",
          "start_time": "2019-11-23T14:20:29.072700Z"
        },
        "id": "uLb_sgh-zztG",
        "colab_type": "code",
        "colab": {}
      },
      "source": [
        "es = EarlyStopping(monitor='val_loss', mode='min', verbose=1, patience=10, min_delta=0.0001) \n",
        "mc = ModelCheckpoint('/content/drive/My Drive/Estudos/FIB - PÓS/Aula-38/Numbers/train/best_model.hdf5', monitor='val_acc', verbose=1, save_best_only=True, mode='max')"
      ],
      "execution_count": 0,
      "outputs": []
    },
    {
      "cell_type": "markdown",
      "metadata": {
        "id": "DydKvmWizztS",
        "colab_type": "text"
      },
      "source": [
        "Let us train the model on a batch size of 32 and evaluate the performance on the holdout set:"
      ]
    },
    {
      "cell_type": "code",
      "metadata": {
        "ExecuteTime": {
          "end_time": "2019-11-23T06:07:34.253897Z",
          "start_time": "2019-11-23T06:02:18.654063Z"
        },
        "id": "HKRtv_SSzztT",
        "colab_type": "code",
        "colab": {}
      },
      "source": [
        "history=model.fit(x_tr, y_tr ,epochs=100, callbacks=[es,mc], batch_size=32, validation_data=(x_val,y_val))"
      ],
      "execution_count": 0,
      "outputs": []
    },
    {
      "cell_type": "markdown",
      "metadata": {
        "id": "K2J7eE44zztc",
        "colab_type": "text"
      },
      "source": [
        "**Diagnostic plot**\n",
        "\n",
        "I’m going to lean on visualization again to understand the performance of the model over a period of time:"
      ]
    },
    {
      "cell_type": "code",
      "metadata": {
        "ExecuteTime": {
          "end_time": "2019-11-23T06:07:34.465983Z",
          "start_time": "2019-11-23T06:07:34.336074Z"
        },
        "id": "BGpNDAvUzzte",
        "colab_type": "code",
        "colab": {}
      },
      "source": [
        "from matplotlib import pyplot\n",
        "pyplot.plot(history.history['loss'], label='train')\n",
        "pyplot.plot(history.history['val_loss'], label='test')\n",
        "pyplot.legend()\n",
        "pyplot.show()"
      ],
      "execution_count": 0,
      "outputs": []
    },
    {
      "cell_type": "markdown",
      "metadata": {
        "id": "EzSScnvTzzto",
        "colab_type": "text"
      },
      "source": [
        "**Loading the best model**"
      ]
    },
    {
      "cell_type": "code",
      "metadata": {
        "id": "wgLDBYSD5X3A",
        "colab_type": "code",
        "colab": {}
      },
      "source": [
        "print(os.getcwd())"
      ],
      "execution_count": 0,
      "outputs": []
    },
    {
      "cell_type": "code",
      "metadata": {
        "ExecuteTime": {
          "end_time": "2019-11-23T14:22:02.814361Z",
          "start_time": "2019-11-23T14:21:57.948107Z"
        },
        "id": "aQFxPedpzztp",
        "colab_type": "code",
        "colab": {}
      },
      "source": [
        "from keras.models import load_model\n",
        "model=load_model('/content/drive/My Drive/Estudos/FIB - PÓS/Aula-38/Numbers/train/best_model.hdf5')"
      ],
      "execution_count": 0,
      "outputs": []
    },
    {
      "cell_type": "markdown",
      "metadata": {
        "id": "HDA9aUnqzzt0",
        "colab_type": "text"
      },
      "source": [
        "Define the function that predicts text for the given audio:"
      ]
    },
    {
      "cell_type": "code",
      "metadata": {
        "ExecuteTime": {
          "end_time": "2019-11-23T14:29:50.300871Z",
          "start_time": "2019-11-23T14:29:50.298413Z"
        },
        "id": "5A4vMOHGzzt2",
        "colab_type": "code",
        "colab": {}
      },
      "source": [
        "def predict(audio):\n",
        "    prob=model.predict(audio.reshape(1,8000,1))\n",
        "    index=np.argmax(prob[0])\n",
        "    return classes[index], prob"
      ],
      "execution_count": 0,
      "outputs": []
    },
    {
      "cell_type": "markdown",
      "metadata": {
        "id": "5InqthvpzzuE",
        "colab_type": "text"
      },
      "source": [
        "Prediction time! Make predictions on the validation data:"
      ]
    },
    {
      "cell_type": "code",
      "metadata": {
        "ExecuteTime": {
          "end_time": "2019-11-23T14:23:31.022232Z",
          "start_time": "2019-11-23T14:23:30.999980Z"
        },
        "id": "ERX7fxYjzzuI",
        "colab_type": "code",
        "colab": {}
      },
      "source": [
        "import random\n",
        "index=random.randint(0,len(x_val)-1)\n",
        "samples=x_val[index].ravel()\n",
        "print(\"Audio:\",classes[np.argmax(y_val[index])])\n",
        "ipd.Audio(samples, rate=8000)"
      ],
      "execution_count": 0,
      "outputs": []
    },
    {
      "cell_type": "code",
      "metadata": {
        "ExecuteTime": {
          "end_time": "2019-11-23T14:23:38.848300Z",
          "start_time": "2019-11-23T14:23:38.834625Z"
        },
        "id": "lMKrGgTLzzuZ",
        "colab_type": "code",
        "colab": {}
      },
      "source": [
        "print(\"Text:\",predict(samples))"
      ],
      "execution_count": 0,
      "outputs": []
    },
    {
      "cell_type": "code",
      "metadata": {
        "id": "fSIJgqg53sMU",
        "colab_type": "code",
        "colab": {}
      },
      "source": [
        "test_audio_path = '/content/drive/My Drive/Estudos/FIB - PÓS/Aula-38/Numbers/test/'"
      ],
      "execution_count": 0,
      "outputs": []
    },
    {
      "cell_type": "code",
      "metadata": {
        "ExecuteTime": {
          "end_time": "2019-11-23T14:23:51.201026Z",
          "start_time": "2019-11-23T14:23:50.073063Z"
        },
        "id": "hpCP4txAzzul",
        "colab_type": "code",
        "colab": {}
      },
      "source": [
        "#reading the voice commands\n",
        "samples, sample_rate = librosa.load(test_audio_path + 'six/clip_000f49605.wav', sr = 8000)\n",
        "samples = librosa.resample(samples[-8000:], sample_rate, 8000)\n",
        "\n",
        "print(predict(samples))\n",
        "\n",
        "ipd.Audio(samples,rate=8000)"
      ],
      "execution_count": 0,
      "outputs": []
    },
    {
      "cell_type": "code",
      "metadata": {
        "ExecuteTime": {
          "end_time": "2019-11-23T14:24:07.260964Z",
          "start_time": "2019-11-23T14:24:06.369389Z"
        },
        "id": "cXCxjBJWzzuw",
        "colab_type": "code",
        "colab": {}
      },
      "source": [
        "#reading the voice commands\n",
        "#samples, sample_rate = librosa.load('teste_left.ogg', sr = 8000)\n",
        "#samples = librosa.resample(samples[-8000:], sample_rate, 8000)\n",
        "\n",
        "#print(predict(samples))\n",
        "\n",
        "#ipd.Audio(samples,rate=8000)"
      ],
      "execution_count": 0,
      "outputs": []
    },
    {
      "cell_type": "markdown",
      "metadata": {
        "id": "O6RKekimzzu7",
        "colab_type": "text"
      },
      "source": [
        "The best part is yet to come! Here is a script that prompts a user to record voice commands. Record your own voice commands and test it on the model:"
      ]
    },
    {
      "cell_type": "code",
      "metadata": {
        "ExecuteTime": {
          "end_time": "2019-11-23T14:30:22.318747Z",
          "start_time": "2019-11-23T14:30:20.687533Z"
        },
        "id": "jQHa2nlWzzu9",
        "colab_type": "code",
        "colab": {}
      },
      "source": [
        "samplerate = 16000  \n",
        "duration = 1 # seconds\n",
        "filename = 'online.wav'\n",
        "print(\"start\")\n",
        "mydata = sd.rec(int(samplerate * duration), samplerate=samplerate,\n",
        "    channels=1, blocking=True)\n",
        "print(\"end\")\n",
        "sd.wait()\n",
        "sf.write(filename, mydata, samplerate)"
      ],
      "execution_count": 0,
      "outputs": []
    },
    {
      "cell_type": "markdown",
      "metadata": {
        "id": "EMcD_67pzzvK",
        "colab_type": "text"
      },
      "source": [
        "Let us now read the saved voice command and convert it to text:"
      ]
    },
    {
      "cell_type": "code",
      "metadata": {
        "ExecuteTime": {
          "end_time": "2019-11-23T14:30:23.605018Z",
          "start_time": "2019-11-23T14:30:23.564908Z"
        },
        "id": "_m6xCQWbzzvM",
        "colab_type": "code",
        "colab": {}
      },
      "source": [
        "#reading the voice commands\n",
        "samples, sample_rate = librosa.load(filename, sr = 16000)\n",
        "samples = librosa.resample(samples, sample_rate, 8000)\n",
        "ipd.Audio(samples,rate=8000)              "
      ],
      "execution_count": 0,
      "outputs": []
    },
    {
      "cell_type": "code",
      "metadata": {
        "ExecuteTime": {
          "end_time": "2019-11-23T14:30:27.083626Z",
          "start_time": "2019-11-23T14:30:27.073583Z"
        },
        "id": "0_pvXm1EzzvV",
        "colab_type": "code",
        "colab": {}
      },
      "source": [
        "#converting voice commands to text\n",
        "predict(samples)"
      ],
      "execution_count": 0,
      "outputs": []
    },
    {
      "cell_type": "markdown",
      "metadata": {
        "id": "GLF2KBsLzzvf",
        "colab_type": "text"
      },
      "source": [
        "Congratulations! You have just built your very own speech-to-text model!"
      ]
    },
    {
      "cell_type": "code",
      "metadata": {
        "ExecuteTime": {
          "end_time": "2019-11-23T14:38:12.084195Z",
          "start_time": "2019-11-23T14:38:12.065740Z"
        },
        "id": "ssps8pw-zzvh",
        "colab_type": "code",
        "colab": {}
      },
      "source": [
        "y_true = [classes[np.argmax(i)] for i in y_val]"
      ],
      "execution_count": 0,
      "outputs": []
    },
    {
      "cell_type": "code",
      "metadata": {
        "ExecuteTime": {
          "end_time": "2019-11-23T14:38:26.913228Z",
          "start_time": "2019-11-23T14:38:19.396656Z"
        },
        "id": "Yq5xyM0dzzvs",
        "colab_type": "code",
        "colab": {}
      },
      "source": [
        "prob = np.array([model.predict(i.reshape(1,8000,1)) for i in x_val])"
      ],
      "execution_count": 0,
      "outputs": []
    },
    {
      "cell_type": "code",
      "metadata": {
        "ExecuteTime": {
          "end_time": "2019-11-23T14:42:01.734451Z",
          "start_time": "2019-11-23T14:42:01.709199Z"
        },
        "id": "e_lkEb03zzv0",
        "colab_type": "code",
        "colab": {}
      },
      "source": [
        "y_pred = [classes[np.argmax(i)] for i in prob]"
      ],
      "execution_count": 0,
      "outputs": []
    },
    {
      "cell_type": "code",
      "metadata": {
        "ExecuteTime": {
          "end_time": "2019-11-23T14:42:41.874539Z",
          "start_time": "2019-11-23T14:42:41.869860Z"
        },
        "id": "-GdoJfHkzzwB",
        "colab_type": "code",
        "colab": {}
      },
      "source": [
        "from sklearn.metrics import classification_report"
      ],
      "execution_count": 0,
      "outputs": []
    },
    {
      "cell_type": "code",
      "metadata": {
        "ExecuteTime": {
          "end_time": "2019-11-23T14:43:02.164380Z",
          "start_time": "2019-11-23T14:43:02.136254Z"
        },
        "id": "0MBDlTIXzzwR",
        "colab_type": "code",
        "colab": {}
      },
      "source": [
        "print(classification_report(y_true, y_pred))"
      ],
      "execution_count": 0,
      "outputs": []
    },
    {
      "cell_type": "markdown",
      "metadata": {
        "id": "QVY18ELGzzwf",
        "colab_type": "text"
      },
      "source": [
        "## Classic Machine Learning"
      ]
    },
    {
      "cell_type": "markdown",
      "metadata": {
        "id": "hLKwzFBTzzwh",
        "colab_type": "text"
      },
      "source": [
        "### Feature Extraction"
      ]
    },
    {
      "cell_type": "code",
      "metadata": {
        "ExecuteTime": {
          "end_time": "2019-11-23T14:55:37.285783Z",
          "start_time": "2019-11-23T14:54:35.850116Z"
        },
        "id": "LLvp-lvGzzwk",
        "colab_type": "code",
        "colab": {}
      },
      "source": [
        "mfccs = []\n",
        "s_lengths = []\n",
        "\n",
        "for s in tqdm(all_wave):\n",
        "    \n",
        "    s_lengths.append(len(s))\n",
        "    \n",
        "    #extract mfccs taken the mean and store them.\n",
        "    mfcc_full = librosa.feature.mfcc(s.reshape(8000,), sr=8000, n_mfcc=13)\n",
        "\n",
        "    mfcc_mean = np.mean(mfcc_full, axis=1)\n",
        "\n",
        "    mfcc_std = np.std(mfcc_full, axis=1)\n",
        "\n",
        "    mfcc_median = np.median(mfcc_full, axis=1)\n",
        "\n",
        "    mfccs.append(np.concatenate((mfcc_mean, mfcc_std, mfcc_median)))\n"
      ],
      "execution_count": 0,
      "outputs": []
    },
    {
      "cell_type": "code",
      "metadata": {
        "ExecuteTime": {
          "end_time": "2019-11-23T14:57:01.903248Z",
          "start_time": "2019-11-23T14:57:01.901332Z"
        },
        "id": "5Ye4zGiczzwu",
        "colab_type": "code",
        "colab": {}
      },
      "source": [
        "import pandas as pd\n",
        "from sklearn import preprocessing\n"
      ],
      "execution_count": 0,
      "outputs": []
    },
    {
      "cell_type": "code",
      "metadata": {
        "ExecuteTime": {
          "end_time": "2019-11-23T14:59:43.847774Z",
          "start_time": "2019-11-23T14:59:43.658523Z"
        },
        "id": "VTOm5o2vzzw6",
        "colab_type": "code",
        "colab": {}
      },
      "source": [
        "features = pd.DataFrame(mfccs)\n",
        "# features[\"size\"] = s_lengths\n",
        "\n",
        "scaler = preprocessing.StandardScaler()\n",
        "\n",
        "data = pd.DataFrame(scaler.fit_transform(features))\n",
        "\n",
        "data[\"y\"] = all_label\n",
        "\n",
        "print(data.shape)\n",
        "data.head(10)"
      ],
      "execution_count": 0,
      "outputs": []
    },
    {
      "cell_type": "code",
      "metadata": {
        "ExecuteTime": {
          "end_time": "2019-11-23T15:00:08.346626Z",
          "start_time": "2019-11-23T15:00:08.337137Z"
        },
        "id": "74M_jIWMzzxC",
        "colab_type": "code",
        "colab": {}
      },
      "source": [
        "X_train, X_test, y_train, y_test = train_test_split(data.drop([\"y\"], axis=1), data.y, test_size=0.20, random_state=0)"
      ],
      "execution_count": 0,
      "outputs": []
    },
    {
      "cell_type": "code",
      "metadata": {
        "ExecuteTime": {
          "end_time": "2019-11-23T15:01:04.667306Z",
          "start_time": "2019-11-23T15:01:04.665000Z"
        },
        "id": "IRPjE5aYzzxQ",
        "colab_type": "code",
        "colab": {}
      },
      "source": [
        "from xgboost import XGBClassifier\n",
        "from sklearn.linear_model import LogisticRegression\n",
        "from sklearn.ensemble import RandomForestClassifier"
      ],
      "execution_count": 0,
      "outputs": []
    },
    {
      "cell_type": "code",
      "metadata": {
        "ExecuteTime": {
          "end_time": "2019-11-23T15:02:01.677117Z",
          "start_time": "2019-11-23T15:01:59.385962Z"
        },
        "id": "lKOo2QR5zzxk",
        "colab_type": "code",
        "colab": {}
      },
      "source": [
        "lr = LogisticRegression()\n",
        "\n",
        "lr.fit(X_train, y_train)"
      ],
      "execution_count": 0,
      "outputs": []
    },
    {
      "cell_type": "code",
      "metadata": {
        "ExecuteTime": {
          "end_time": "2019-11-23T15:02:25.155370Z",
          "start_time": "2019-11-23T15:02:25.152285Z"
        },
        "id": "aMTTGp1Azzxx",
        "colab_type": "code",
        "colab": {}
      },
      "source": [
        "y_pred = lr.predict(X_test)"
      ],
      "execution_count": 0,
      "outputs": []
    },
    {
      "cell_type": "code",
      "metadata": {
        "ExecuteTime": {
          "end_time": "2019-11-23T15:02:48.604110Z",
          "start_time": "2019-11-23T15:02:48.532420Z"
        },
        "id": "nHU1Ca_5zzx9",
        "colab_type": "code",
        "colab": {}
      },
      "source": [
        "print(classification_report(y_test, y_pred))"
      ],
      "execution_count": 0,
      "outputs": []
    },
    {
      "cell_type": "code",
      "metadata": {
        "ExecuteTime": {
          "end_time": "2019-11-23T15:04:01.100053Z",
          "start_time": "2019-11-23T15:04:00.308636Z"
        },
        "id": "Tpz8qC-wzzyH",
        "colab_type": "code",
        "colab": {}
      },
      "source": [
        "rf = RandomForestClassifier()\n",
        "\n",
        "rf.fit(X_train, y_train)"
      ],
      "execution_count": 0,
      "outputs": []
    },
    {
      "cell_type": "code",
      "metadata": {
        "ExecuteTime": {
          "end_time": "2019-11-23T15:04:24.734748Z",
          "start_time": "2019-11-23T15:04:24.715166Z"
        },
        "id": "wsOkpgTFzzyS",
        "colab_type": "code",
        "colab": {}
      },
      "source": [
        "y_pred = rf.predict(X_test)"
      ],
      "execution_count": 0,
      "outputs": []
    },
    {
      "cell_type": "code",
      "metadata": {
        "ExecuteTime": {
          "end_time": "2019-11-23T15:04:49.150985Z",
          "start_time": "2019-11-23T15:04:49.079479Z"
        },
        "id": "XMeMbxVvzzyZ",
        "colab_type": "code",
        "colab": {}
      },
      "source": [
        "print(classification_report(y_test, y_pred))"
      ],
      "execution_count": 0,
      "outputs": []
    },
    {
      "cell_type": "code",
      "metadata": {
        "ExecuteTime": {
          "end_time": "2019-11-23T15:05:54.100624Z",
          "start_time": "2019-11-23T15:05:25.214807Z"
        },
        "id": "8VNy1TQgzzyh",
        "colab_type": "code",
        "colab": {}
      },
      "source": [
        "xgb = XGBClassifier()\n",
        "\n",
        "xgb.fit(X_train, y_train)"
      ],
      "execution_count": 0,
      "outputs": []
    },
    {
      "cell_type": "code",
      "metadata": {
        "ExecuteTime": {
          "end_time": "2019-11-23T15:06:17.695562Z",
          "start_time": "2019-11-23T15:06:17.531515Z"
        },
        "id": "YGvzpTTgzzys",
        "colab_type": "code",
        "colab": {}
      },
      "source": [
        "y_pred = xgb.predict(X_test)"
      ],
      "execution_count": 0,
      "outputs": []
    },
    {
      "cell_type": "code",
      "metadata": {
        "ExecuteTime": {
          "end_time": "2019-11-23T15:06:41.018581Z",
          "start_time": "2019-11-23T15:06:40.932564Z"
        },
        "id": "XgCzxqWQzzy3",
        "colab_type": "code",
        "colab": {}
      },
      "source": [
        "print(classification_report(y_test, y_pred))"
      ],
      "execution_count": 0,
      "outputs": []
    },
    {
      "cell_type": "code",
      "metadata": {
        "id": "QrL4w0v_zzzI",
        "colab_type": "code",
        "colab": {}
      },
      "source": [
        ""
      ],
      "execution_count": 0,
      "outputs": []
    }
  ]
}